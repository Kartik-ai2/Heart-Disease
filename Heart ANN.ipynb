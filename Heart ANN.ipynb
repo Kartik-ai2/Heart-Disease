{
 "cells": [
  {
   "cell_type": "raw",
   "metadata": {
    "id": "YcBX6rZporCT"
   },
   "source": [
    "This is the the data for testing of heart disease .Which includes features like sex(male:1,female:0) ,age, resting bp(means blood pressue while rest),ex_angina(angina is a pain ,this feature  means that while exersise if any person suffer from pain) "
   ]
  },
  {
   "cell_type": "code",
   "execution_count": 2,
   "metadata": {
    "id": "rHJ3SWxZorCg"
   },
   "outputs": [],
   "source": [
    "import pandas as pd\n",
    "import numpy as np\n",
    "import seaborn as sns\n",
    "import matplotlib.pyplot as plt\n",
    "import warnings\n",
    "warnings.filterwarnings('ignore')"
   ]
  },
  {
   "cell_type": "code",
   "execution_count": 3,
   "metadata": {
    "id": "4wAZdjz5orCo"
   },
   "outputs": [],
   "source": [
    "df=pd.read_csv(\"heart_disease_dataset.csv\")"
   ]
  },
  {
   "cell_type": "code",
   "execution_count": 4,
   "metadata": {
    "colab": {
     "base_uri": "https://localhost:8080/",
     "height": 450
    },
    "id": "K0RZqc7uorCr",
    "outputId": "d960eaf0-86ec-40b2-8b6a-119ea2f71f87"
   },
   "outputs": [
    {
     "data": {
      "text/html": [
       "<div>\n",
       "<style scoped>\n",
       "    .dataframe tbody tr th:only-of-type {\n",
       "        vertical-align: middle;\n",
       "    }\n",
       "\n",
       "    .dataframe tbody tr th {\n",
       "        vertical-align: top;\n",
       "    }\n",
       "\n",
       "    .dataframe thead th {\n",
       "        text-align: right;\n",
       "    }\n",
       "</style>\n",
       "<table border=\"1\" class=\"dataframe\">\n",
       "  <thead>\n",
       "    <tr style=\"text-align: right;\">\n",
       "      <th></th>\n",
       "      <th>age</th>\n",
       "      <th>sex</th>\n",
       "      <th>chest_pain_type</th>\n",
       "      <th>resting bp</th>\n",
       "      <th>serun_cholestrol</th>\n",
       "      <th>fasting_blood_sugar</th>\n",
       "      <th>restecg</th>\n",
       "      <th>maximum heart rate</th>\n",
       "      <th>ex_angina</th>\n",
       "      <th>ST_dep</th>\n",
       "      <th>slope</th>\n",
       "      <th>ca</th>\n",
       "      <th>thal</th>\n",
       "      <th>target</th>\n",
       "    </tr>\n",
       "  </thead>\n",
       "  <tbody>\n",
       "    <tr>\n",
       "      <th>0</th>\n",
       "      <td>63</td>\n",
       "      <td>1</td>\n",
       "      <td>1</td>\n",
       "      <td>145</td>\n",
       "      <td>233</td>\n",
       "      <td>1</td>\n",
       "      <td>2</td>\n",
       "      <td>150</td>\n",
       "      <td>0</td>\n",
       "      <td>2.3</td>\n",
       "      <td>3</td>\n",
       "      <td>0</td>\n",
       "      <td>6</td>\n",
       "      <td>0</td>\n",
       "    </tr>\n",
       "    <tr>\n",
       "      <th>1</th>\n",
       "      <td>67</td>\n",
       "      <td>1</td>\n",
       "      <td>4</td>\n",
       "      <td>160</td>\n",
       "      <td>286</td>\n",
       "      <td>0</td>\n",
       "      <td>2</td>\n",
       "      <td>108</td>\n",
       "      <td>1</td>\n",
       "      <td>1.5</td>\n",
       "      <td>2</td>\n",
       "      <td>3</td>\n",
       "      <td>3</td>\n",
       "      <td>1</td>\n",
       "    </tr>\n",
       "    <tr>\n",
       "      <th>2</th>\n",
       "      <td>67</td>\n",
       "      <td>1</td>\n",
       "      <td>4</td>\n",
       "      <td>120</td>\n",
       "      <td>229</td>\n",
       "      <td>0</td>\n",
       "      <td>2</td>\n",
       "      <td>129</td>\n",
       "      <td>1</td>\n",
       "      <td>2.6</td>\n",
       "      <td>2</td>\n",
       "      <td>2</td>\n",
       "      <td>7</td>\n",
       "      <td>1</td>\n",
       "    </tr>\n",
       "    <tr>\n",
       "      <th>3</th>\n",
       "      <td>37</td>\n",
       "      <td>1</td>\n",
       "      <td>3</td>\n",
       "      <td>130</td>\n",
       "      <td>250</td>\n",
       "      <td>0</td>\n",
       "      <td>0</td>\n",
       "      <td>187</td>\n",
       "      <td>0</td>\n",
       "      <td>3.5</td>\n",
       "      <td>3</td>\n",
       "      <td>0</td>\n",
       "      <td>3</td>\n",
       "      <td>0</td>\n",
       "    </tr>\n",
       "    <tr>\n",
       "      <th>4</th>\n",
       "      <td>41</td>\n",
       "      <td>0</td>\n",
       "      <td>2</td>\n",
       "      <td>130</td>\n",
       "      <td>204</td>\n",
       "      <td>0</td>\n",
       "      <td>2</td>\n",
       "      <td>172</td>\n",
       "      <td>0</td>\n",
       "      <td>1.4</td>\n",
       "      <td>1</td>\n",
       "      <td>0</td>\n",
       "      <td>3</td>\n",
       "      <td>0</td>\n",
       "    </tr>\n",
       "    <tr>\n",
       "      <th>...</th>\n",
       "      <td>...</td>\n",
       "      <td>...</td>\n",
       "      <td>...</td>\n",
       "      <td>...</td>\n",
       "      <td>...</td>\n",
       "      <td>...</td>\n",
       "      <td>...</td>\n",
       "      <td>...</td>\n",
       "      <td>...</td>\n",
       "      <td>...</td>\n",
       "      <td>...</td>\n",
       "      <td>...</td>\n",
       "      <td>...</td>\n",
       "      <td>...</td>\n",
       "    </tr>\n",
       "    <tr>\n",
       "      <th>298</th>\n",
       "      <td>45</td>\n",
       "      <td>1</td>\n",
       "      <td>1</td>\n",
       "      <td>110</td>\n",
       "      <td>264</td>\n",
       "      <td>0</td>\n",
       "      <td>0</td>\n",
       "      <td>132</td>\n",
       "      <td>0</td>\n",
       "      <td>1.2</td>\n",
       "      <td>2</td>\n",
       "      <td>0</td>\n",
       "      <td>7</td>\n",
       "      <td>1</td>\n",
       "    </tr>\n",
       "    <tr>\n",
       "      <th>299</th>\n",
       "      <td>68</td>\n",
       "      <td>1</td>\n",
       "      <td>4</td>\n",
       "      <td>144</td>\n",
       "      <td>193</td>\n",
       "      <td>1</td>\n",
       "      <td>0</td>\n",
       "      <td>141</td>\n",
       "      <td>0</td>\n",
       "      <td>3.4</td>\n",
       "      <td>2</td>\n",
       "      <td>2</td>\n",
       "      <td>7</td>\n",
       "      <td>1</td>\n",
       "    </tr>\n",
       "    <tr>\n",
       "      <th>300</th>\n",
       "      <td>57</td>\n",
       "      <td>1</td>\n",
       "      <td>4</td>\n",
       "      <td>130</td>\n",
       "      <td>131</td>\n",
       "      <td>0</td>\n",
       "      <td>0</td>\n",
       "      <td>115</td>\n",
       "      <td>1</td>\n",
       "      <td>1.2</td>\n",
       "      <td>2</td>\n",
       "      <td>1</td>\n",
       "      <td>7</td>\n",
       "      <td>1</td>\n",
       "    </tr>\n",
       "    <tr>\n",
       "      <th>301</th>\n",
       "      <td>57</td>\n",
       "      <td>0</td>\n",
       "      <td>2</td>\n",
       "      <td>130</td>\n",
       "      <td>236</td>\n",
       "      <td>0</td>\n",
       "      <td>2</td>\n",
       "      <td>174</td>\n",
       "      <td>0</td>\n",
       "      <td>0.0</td>\n",
       "      <td>2</td>\n",
       "      <td>1</td>\n",
       "      <td>3</td>\n",
       "      <td>1</td>\n",
       "    </tr>\n",
       "    <tr>\n",
       "      <th>302</th>\n",
       "      <td>38</td>\n",
       "      <td>1</td>\n",
       "      <td>3</td>\n",
       "      <td>138</td>\n",
       "      <td>175</td>\n",
       "      <td>0</td>\n",
       "      <td>0</td>\n",
       "      <td>173</td>\n",
       "      <td>0</td>\n",
       "      <td>0.0</td>\n",
       "      <td>1</td>\n",
       "      <td>-100000</td>\n",
       "      <td>3</td>\n",
       "      <td>0</td>\n",
       "    </tr>\n",
       "  </tbody>\n",
       "</table>\n",
       "<p>303 rows × 14 columns</p>\n",
       "</div>"
      ],
      "text/plain": [
       "     age  sex  chest_pain_type  resting bp  serun_cholestrol  \\\n",
       "0     63    1                1         145               233   \n",
       "1     67    1                4         160               286   \n",
       "2     67    1                4         120               229   \n",
       "3     37    1                3         130               250   \n",
       "4     41    0                2         130               204   \n",
       "..   ...  ...              ...         ...               ...   \n",
       "298   45    1                1         110               264   \n",
       "299   68    1                4         144               193   \n",
       "300   57    1                4         130               131   \n",
       "301   57    0                2         130               236   \n",
       "302   38    1                3         138               175   \n",
       "\n",
       "     fasting_blood_sugar  restecg  maximum heart rate  ex_angina  ST_dep  \\\n",
       "0                      1        2                 150          0     2.3   \n",
       "1                      0        2                 108          1     1.5   \n",
       "2                      0        2                 129          1     2.6   \n",
       "3                      0        0                 187          0     3.5   \n",
       "4                      0        2                 172          0     1.4   \n",
       "..                   ...      ...                 ...        ...     ...   \n",
       "298                    0        0                 132          0     1.2   \n",
       "299                    1        0                 141          0     3.4   \n",
       "300                    0        0                 115          1     1.2   \n",
       "301                    0        2                 174          0     0.0   \n",
       "302                    0        0                 173          0     0.0   \n",
       "\n",
       "     slope      ca  thal  target  \n",
       "0        3       0     6       0  \n",
       "1        2       3     3       1  \n",
       "2        2       2     7       1  \n",
       "3        3       0     3       0  \n",
       "4        1       0     3       0  \n",
       "..     ...     ...   ...     ...  \n",
       "298      2       0     7       1  \n",
       "299      2       2     7       1  \n",
       "300      2       1     7       1  \n",
       "301      2       1     3       1  \n",
       "302      1 -100000     3       0  \n",
       "\n",
       "[303 rows x 14 columns]"
      ]
     },
     "execution_count": 4,
     "metadata": {},
     "output_type": "execute_result"
    }
   ],
   "source": [
    "df"
   ]
  },
  {
   "cell_type": "markdown",
   "metadata": {
    "id": "yoLxssNuorCv"
   },
   "source": [
    "### Data visualization"
   ]
  },
  {
   "cell_type": "code",
   "execution_count": 153,
   "metadata": {
    "colab": {
     "base_uri": "https://localhost:8080/",
     "height": 1000
    },
    "id": "_muPgbhiorC1",
    "outputId": "1fbca714-beb4-452b-e5e6-00420e87ed0c"
   },
   "outputs": [
    {
     "data": {
      "text/plain": [
       "<AxesSubplot:xlabel='thal', ylabel='target'>"
      ]
     },
     "execution_count": 153,
     "metadata": {},
     "output_type": "execute_result"
    },
    {
     "data": {
      "image/png": "[encoded data removed]",
      "text/plain": [
       "<Figure size 1440x1440 with 8 Axes>"
      ]
     },
     "metadata": {
      "needs_background": "light"
     },
     "output_type": "display_data"
    }
   ],
   "source": [
    "plt.figure(figsize=(20,20))\n",
    "plt.subplot(3,3,1)\n",
    "sns.barplot(\"chest_pain_type\",\"target\",data=df,hue=\"sex\")\n",
    "plt.subplot(3,3,2)\n",
    "sns.barplot(\"sex\",\"target\",data=df)\n",
    "plt.subplot(3,3,3)\n",
    "sns.barplot(\"fasting_blood_sugar\",\"target\",data=df,hue=\"sex\")\n",
    "plt.subplot(3,3,4)\n",
    "sns.barplot(\"restecg\",\"target\",data=df,hue=\"sex\")\n",
    "plt.subplot(3,3,5)\n",
    "sns.barplot(\"ex_angina\",\"target\",data=df,hue=\"sex\")\n",
    "plt.subplot(3,3,6)\n",
    "sns.barplot(\"slope\",\"target\",data=df,hue=\"sex\")\n",
    "plt.subplot(3,3,7)\n",
    "sns.barplot(\"ca\",\"target\",data=df,hue=\"sex\")\n",
    "plt.subplot(3,3,8)\n",
    "sns.barplot(\"thal\",\"target\",data=df,hue=\"sex\")"
   ]
  },
  {
   "cell_type": "markdown",
   "metadata": {
    "id": "PBpjFkE9orC3"
   },
   "source": [
    "### Male have heigher chances to have heart disease because male have all value high like chances of chest pain, ex_angina "
   ]
  },
  {
   "cell_type": "code",
   "execution_count": 123,
   "metadata": {
    "colab": {
     "base_uri": "https://localhost:8080/",
     "height": 893
    },
    "id": "FKhb_WXzorC5",
    "outputId": "75398cde-5199-4534-e826-3b8804c7d687"
   },
   "outputs": [
    {
     "data": {
      "text/plain": [
       "array([[<AxesSubplot:title={'center':'age'}>,\n",
       "        <AxesSubplot:title={'center':'sex'}>,\n",
       "        <AxesSubplot:title={'center':'chest_pain_type'}>,\n",
       "        <AxesSubplot:title={'center':'resting bp'}>],\n",
       "       [<AxesSubplot:title={'center':'serun_cholestrol'}>,\n",
       "        <AxesSubplot:title={'center':'fasting_blood_sugar'}>,\n",
       "        <AxesSubplot:title={'center':'restecg'}>,\n",
       "        <AxesSubplot:title={'center':'maximum heart rate'}>],\n",
       "       [<AxesSubplot:title={'center':'ex_angina'}>,\n",
       "        <AxesSubplot:title={'center':'ST_dep'}>,\n",
       "        <AxesSubplot:title={'center':'slope'}>,\n",
       "        <AxesSubplot:title={'center':'ca'}>],\n",
       "       [<AxesSubplot:title={'center':'thal'}>,\n",
       "        <AxesSubplot:title={'center':'target'}>, <AxesSubplot:>,\n",
       "        <AxesSubplot:>]], dtype=object)"
      ]
     },
     "execution_count": 123,
     "metadata": {},
     "output_type": "execute_result"
    },
    {
     "data": {
      "image/png": "[encoded data removed]",
      "text/plain": [
       "<Figure size 1080x720 with 16 Axes>"
      ]
     },
     "metadata": {
      "needs_background": "light"
     },
     "output_type": "display_data"
    }
   ],
   "source": [
    "\n",
    "df.hist(figsize=(15,10))"
   ]
  },
  {
   "cell_type": "markdown",
   "metadata": {
    "id": "ZP2ATB-corC9"
   },
   "source": [
    "### Most of the numerical data seems to be normall distributed"
   ]
  },
  {
   "cell_type": "code",
   "execution_count": 124,
   "metadata": {
    "colab": {
     "base_uri": "https://localhost:8080/",
     "height": 296
    },
    "id": "Xki-ie8JorDE",
    "outputId": "36f4d5fa-52cb-47cb-9c20-448e39a998d2"
   },
   "outputs": [
    {
     "data": {
      "text/plain": [
       "<AxesSubplot:xlabel='target', ylabel='count'>"
      ]
     },
     "execution_count": 124,
     "metadata": {},
     "output_type": "execute_result"
    },
    {
     "data": {
      "image/png": "[encoded data removed]",
      "text/plain": [
       "<Figure size 432x288 with 1 Axes>"
      ]
     },
     "metadata": {
      "needs_background": "light"
     },
     "output_type": "display_data"
    }
   ],
   "source": [
    "sns.countplot(\"target\",data=df)"
   ]
  },
  {
   "cell_type": "markdown",
   "metadata": {
    "id": "YMF-VKU4orDF"
   },
   "source": [
    "### By seeeing countplot  data looks  to be balanced "
   ]
  },
  {
   "cell_type": "raw",
   "metadata": {
    "id": "JFtwXXd8orDI"
   },
   "source": [
    "sns.pairplot(df)"
   ]
  },
  {
   "cell_type": "markdown",
   "metadata": {
    "id": "oB7qURRuorDJ"
   },
   "source": [
    "### Feature Selection"
   ]
  },
  {
   "cell_type": "code",
   "execution_count": 125,
   "metadata": {
    "colab": {
     "base_uri": "https://localhost:8080/",
     "height": 1000
    },
    "id": "pANrevDgorDK",
    "outputId": "ac23701d-b87b-40c9-a377-5c5763f18439"
   },
   "outputs": [
    {
     "data": {
      "text/plain": [
       "<AxesSubplot:>"
      ]
     },
     "execution_count": 125,
     "metadata": {},
     "output_type": "execute_result"
    },
    {
     "data": {
      "image/png": "[encoded data removed]",
      "text/plain": [
       "<Figure size 1440x1152 with 2 Axes>"
      ]
     },
     "metadata": {
      "needs_background": "light"
     },
     "output_type": "display_data"
    }
   ],
   "source": [
    "plt.figure(figsize=(20,16))\n",
    "sns.heatmap(df.corr(),annot=True)"
   ]
  },
  {
   "cell_type": "markdown",
   "metadata": {
    "id": "WR3-tF9IorDL"
   },
   "source": [
    "### All feature seems to very less correlated with each other ##"
   ]
  },
  {
   "cell_type": "markdown",
   "metadata": {
    "id": "Kcqx3d11orDM"
   },
   "source": [
    "### Breaking data into training and testing"
   ]
  },
  {
   "cell_type": "code",
   "execution_count": 5,
   "metadata": {
    "id": "szSdFqhmorDM"
   },
   "outputs": [],
   "source": [
    "X=df.iloc[:,:13]\n",
    "Y=df.iloc[:,13:]\n",
    "from sklearn.model_selection import train_test_split\n",
    "\n",
    "X_train,X_test,Y_train,Y_test=train_test_split(X,Y,test_size=.20,random_state=25,shuffle=True)"
   ]
  },
  {
   "cell_type": "markdown",
   "metadata": {
    "id": "18aFWS9LorDN"
   },
   "source": [
    "### Feature Scalling"
   ]
  },
  {
   "cell_type": "code",
   "execution_count": 6,
   "metadata": {
    "colab": {
     "base_uri": "https://localhost:8080/",
     "height": 434
    },
    "id": "VzJvKhmaorDO",
    "outputId": "3d4bd740-86a2-4b58-93c7-a3fadfddbede"
   },
   "outputs": [
    {
     "data": {
      "text/html": [
       "<div>\n",
       "<style scoped>\n",
       "    .dataframe tbody tr th:only-of-type {\n",
       "        vertical-align: middle;\n",
       "    }\n",
       "\n",
       "    .dataframe tbody tr th {\n",
       "        vertical-align: top;\n",
       "    }\n",
       "\n",
       "    .dataframe thead th {\n",
       "        text-align: right;\n",
       "    }\n",
       "</style>\n",
       "<table border=\"1\" class=\"dataframe\">\n",
       "  <thead>\n",
       "    <tr style=\"text-align: right;\">\n",
       "      <th></th>\n",
       "      <th>age</th>\n",
       "      <th>sex</th>\n",
       "      <th>chest_pain_type</th>\n",
       "      <th>resting bp</th>\n",
       "      <th>serun_cholestrol</th>\n",
       "      <th>fasting_blood_sugar</th>\n",
       "      <th>restecg</th>\n",
       "      <th>maximum heart rate</th>\n",
       "      <th>ex_angina</th>\n",
       "      <th>ST_dep</th>\n",
       "      <th>slope</th>\n",
       "      <th>ca</th>\n",
       "      <th>thal</th>\n",
       "    </tr>\n",
       "  </thead>\n",
       "  <tbody>\n",
       "    <tr>\n",
       "      <th>1</th>\n",
       "      <td>1.356632</td>\n",
       "      <td>1</td>\n",
       "      <td>4</td>\n",
       "      <td>1.574388</td>\n",
       "      <td>0.801488</td>\n",
       "      <td>0</td>\n",
       "      <td>2</td>\n",
       "      <td>-1.888126</td>\n",
       "      <td>1</td>\n",
       "      <td>0.435360</td>\n",
       "      <td>2</td>\n",
       "      <td>3</td>\n",
       "      <td>3</td>\n",
       "    </tr>\n",
       "    <tr>\n",
       "      <th>142</th>\n",
       "      <td>-0.255340</td>\n",
       "      <td>1</td>\n",
       "      <td>2</td>\n",
       "      <td>-0.229438</td>\n",
       "      <td>-0.783697</td>\n",
       "      <td>1</td>\n",
       "      <td>0</td>\n",
       "      <td>1.492560</td>\n",
       "      <td>0</td>\n",
       "      <td>-0.905062</td>\n",
       "      <td>1</td>\n",
       "      <td>0</td>\n",
       "      <td>3</td>\n",
       "    </tr>\n",
       "    <tr>\n",
       "      <th>126</th>\n",
       "      <td>0.174519</td>\n",
       "      <td>0</td>\n",
       "      <td>4</td>\n",
       "      <td>3.829171</td>\n",
       "      <td>0.840629</td>\n",
       "      <td>1</td>\n",
       "      <td>2</td>\n",
       "      <td>-0.776058</td>\n",
       "      <td>1</td>\n",
       "      <td>2.669397</td>\n",
       "      <td>3</td>\n",
       "      <td>2</td>\n",
       "      <td>7</td>\n",
       "    </tr>\n",
       "    <tr>\n",
       "      <th>37</th>\n",
       "      <td>0.281984</td>\n",
       "      <td>1</td>\n",
       "      <td>4</td>\n",
       "      <td>1.010693</td>\n",
       "      <td>0.605786</td>\n",
       "      <td>0</td>\n",
       "      <td>2</td>\n",
       "      <td>-1.710195</td>\n",
       "      <td>1</td>\n",
       "      <td>-0.368893</td>\n",
       "      <td>2</td>\n",
       "      <td>1</td>\n",
       "      <td>6</td>\n",
       "    </tr>\n",
       "    <tr>\n",
       "      <th>275</th>\n",
       "      <td>1.034237</td>\n",
       "      <td>1</td>\n",
       "      <td>1</td>\n",
       "      <td>2.138084</td>\n",
       "      <td>-0.353153</td>\n",
       "      <td>0</td>\n",
       "      <td>2</td>\n",
       "      <td>0.202562</td>\n",
       "      <td>0</td>\n",
       "      <td>-0.368893</td>\n",
       "      <td>2</td>\n",
       "      <td>0</td>\n",
       "      <td>7</td>\n",
       "    </tr>\n",
       "    <tr>\n",
       "      <th>...</th>\n",
       "      <td>...</td>\n",
       "      <td>...</td>\n",
       "      <td>...</td>\n",
       "      <td>...</td>\n",
       "      <td>...</td>\n",
       "      <td>...</td>\n",
       "      <td>...</td>\n",
       "      <td>...</td>\n",
       "      <td>...</td>\n",
       "      <td>...</td>\n",
       "      <td>...</td>\n",
       "      <td>...</td>\n",
       "      <td>...</td>\n",
       "    </tr>\n",
       "    <tr>\n",
       "      <th>253</th>\n",
       "      <td>-0.362805</td>\n",
       "      <td>0</td>\n",
       "      <td>3</td>\n",
       "      <td>-0.680395</td>\n",
       "      <td>0.977620</td>\n",
       "      <td>0</td>\n",
       "      <td>2</td>\n",
       "      <td>0.291527</td>\n",
       "      <td>0</td>\n",
       "      <td>-0.368893</td>\n",
       "      <td>1</td>\n",
       "      <td>0</td>\n",
       "      <td>3</td>\n",
       "    </tr>\n",
       "    <tr>\n",
       "      <th>151</th>\n",
       "      <td>-1.329988</td>\n",
       "      <td>0</td>\n",
       "      <td>4</td>\n",
       "      <td>-1.695047</td>\n",
       "      <td>0.390514</td>\n",
       "      <td>0</td>\n",
       "      <td>2</td>\n",
       "      <td>-1.265368</td>\n",
       "      <td>0</td>\n",
       "      <td>-0.368893</td>\n",
       "      <td>2</td>\n",
       "      <td>0</td>\n",
       "      <td>3</td>\n",
       "    </tr>\n",
       "    <tr>\n",
       "      <th>255</th>\n",
       "      <td>-1.329988</td>\n",
       "      <td>0</td>\n",
       "      <td>3</td>\n",
       "      <td>-0.680395</td>\n",
       "      <td>-0.705416</td>\n",
       "      <td>0</td>\n",
       "      <td>0</td>\n",
       "      <td>1.003251</td>\n",
       "      <td>0</td>\n",
       "      <td>-0.905062</td>\n",
       "      <td>2</td>\n",
       "      <td>0</td>\n",
       "      <td>3</td>\n",
       "    </tr>\n",
       "    <tr>\n",
       "      <th>143</th>\n",
       "      <td>1.034237</td>\n",
       "      <td>1</td>\n",
       "      <td>3</td>\n",
       "      <td>-0.398547</td>\n",
       "      <td>1.251603</td>\n",
       "      <td>0</td>\n",
       "      <td>0</td>\n",
       "      <td>-0.865023</td>\n",
       "      <td>1</td>\n",
       "      <td>0.703445</td>\n",
       "      <td>2</td>\n",
       "      <td>0</td>\n",
       "      <td>7</td>\n",
       "    </tr>\n",
       "    <tr>\n",
       "      <th>132</th>\n",
       "      <td>-2.727030</td>\n",
       "      <td>1</td>\n",
       "      <td>2</td>\n",
       "      <td>-0.116699</td>\n",
       "      <td>-0.803267</td>\n",
       "      <td>0</td>\n",
       "      <td>2</td>\n",
       "      <td>2.293249</td>\n",
       "      <td>0</td>\n",
       "      <td>-0.905062</td>\n",
       "      <td>1</td>\n",
       "      <td>0</td>\n",
       "      <td>3</td>\n",
       "    </tr>\n",
       "  </tbody>\n",
       "</table>\n",
       "<p>242 rows × 13 columns</p>\n",
       "</div>"
      ],
      "text/plain": [
       "          age  sex  chest_pain_type  resting bp  serun_cholestrol  \\\n",
       "1    1.356632    1                4    1.574388          0.801488   \n",
       "142 -0.255340    1                2   -0.229438         -0.783697   \n",
       "126  0.174519    0                4    3.829171          0.840629   \n",
       "37   0.281984    1                4    1.010693          0.605786   \n",
       "275  1.034237    1                1    2.138084         -0.353153   \n",
       "..        ...  ...              ...         ...               ...   \n",
       "253 -0.362805    0                3   -0.680395          0.977620   \n",
       "151 -1.329988    0                4   -1.695047          0.390514   \n",
       "255 -1.329988    0                3   -0.680395         -0.705416   \n",
       "143  1.034237    1                3   -0.398547          1.251603   \n",
       "132 -2.727030    1                2   -0.116699         -0.803267   \n",
       "\n",
       "     fasting_blood_sugar  restecg  maximum heart rate  ex_angina    ST_dep  \\\n",
       "1                      0        2           -1.888126          1  0.435360   \n",
       "142                    1        0            1.492560          0 -0.905062   \n",
       "126                    1        2           -0.776058          1  2.669397   \n",
       "37                     0        2           -1.710195          1 -0.368893   \n",
       "275                    0        2            0.202562          0 -0.368893   \n",
       "..                   ...      ...                 ...        ...       ...   \n",
       "253                    0        2            0.291527          0 -0.368893   \n",
       "151                    0        2           -1.265368          0 -0.368893   \n",
       "255                    0        0            1.003251          0 -0.905062   \n",
       "143                    0        0           -0.865023          1  0.703445   \n",
       "132                    0        2            2.293249          0 -0.905062   \n",
       "\n",
       "     slope  ca  thal  \n",
       "1        2   3     3  \n",
       "142      1   0     3  \n",
       "126      3   2     7  \n",
       "37       2   1     6  \n",
       "275      2   0     7  \n",
       "..     ...  ..   ...  \n",
       "253      1   0     3  \n",
       "151      2   0     3  \n",
       "255      2   0     3  \n",
       "143      2   0     7  \n",
       "132      1   0     3  \n",
       "\n",
       "[242 rows x 13 columns]"
      ]
     },
     "execution_count": 6,
     "metadata": {},
     "output_type": "execute_result"
    }
   ],
   "source": [
    "from sklearn.preprocessing import StandardScaler\n",
    "StandardScaler=StandardScaler()\n",
    "\n",
    "#X_train\n",
    "X_train[[\"age\",\"resting bp\",\"maximum heart rate\",\"serun_cholestrol\",\"ST_dep\"]]=StandardScaler.fit_transform(X=X_train[[\"age\",\"resting bp\",\"maximum heart rate\",\"serun_cholestrol\",\"ST_dep\"]])\n",
    "X_train"
   ]
  },
  {
   "cell_type": "markdown",
   "metadata": {
    "id": "xxjv7CE2orDP"
   },
   "source": [
    "### Logistic Regression"
   ]
  },
  {
   "cell_type": "code",
   "execution_count": 130,
   "metadata": {
    "colab": {
     "base_uri": "https://localhost:8080/"
    },
    "id": "Kt0Z1z0AorDP",
    "outputId": "8abaeaec-6102-4591-f7ed-fe7c7680c1b3"
   },
   "outputs": [
    {
     "name": "stdout",
     "output_type": "stream",
     "text": [
      "Accuracy on testing 0.6065573770491803\n"
     ]
    }
   ],
   "source": [
    "from sklearn.metrics import accuracy_score\n",
    "from sklearn.linear_model import LogisticRegression\n",
    "model= LogisticRegression()\n",
    "Logistic_model=model.fit(X_train,Y_train)\n",
    "Y_pred=Logistic_model.predict(X_test)\n",
    "#print(\"Accuracy on training\",accuracy_score(X_train,Y_train))\n",
    "print(\"Accuracy on testing\",accuracy_score(Y_test,Y_pred))"
   ]
  },
  {
   "cell_type": "code",
   "execution_count": null,
   "metadata": {
    "colab": {
     "base_uri": "https://localhost:8080/"
    },
    "id": "U-nemyOZorDR",
    "outputId": "5bff8b6a-bebf-47f8-8dfb-782c3b08ff4d"
   },
   "outputs": [
    {
     "name": "stdout",
     "output_type": "stream",
     "text": [
      "              precision    recall  f1-score   support\n",
      "\n",
      "           0       0.59      0.74      0.66        31\n",
      "           1       0.64      0.47      0.54        30\n",
      "\n",
      "    accuracy                           0.61        61\n",
      "   macro avg       0.61      0.60      0.60        61\n",
      "weighted avg       0.61      0.61      0.60        61\n",
      "\n"
     ]
    }
   ],
   "source": [
    "from sklearn.metrics  import classification_report\n",
    "print(classification_report(Y_test,Y_pred))"
   ]
  },
  {
   "cell_type": "markdown",
   "metadata": {
    "id": "jTkKzcHCorDS"
   },
   "source": [
    "### Random forest with Cross validation"
   ]
  },
  {
   "cell_type": "code",
   "execution_count": null,
   "metadata": {
    "colab": {
     "base_uri": "https://localhost:8080/"
    },
    "id": "0nxxOzr6orDT",
    "outputId": "e82ce288-951a-4410-84b4-6e7a85706e78"
   },
   "outputs": [
    {
     "name": "stdout",
     "output_type": "stream",
     "text": [
      "[0.68       0.84       0.79166667 0.91666667 0.70833333 0.91666667\n",
      " 1.         0.83333333 0.75       0.70833333]\n"
     ]
    }
   ],
   "source": [
    "from sklearn.model_selection import StratifiedKFold\n",
    "from sklearn.model_selection import cross_val_score\n",
    "from sklearn.ensemble import RandomForestClassifier\n",
    "cv=StratifiedKFold(n_splits=10,random_state=1,shuffle=True)\n",
    "model =RandomForestClassifier()\n",
    "# evaluate model\n",
    "scores = cross_val_score(model, X_train, Y_train, scoring=None, cv=cv, n_jobs=-1)\n",
    "print(scores)"
   ]
  },
  {
   "cell_type": "code",
   "execution_count": null,
   "metadata": {
    "colab": {
     "base_uri": "https://localhost:8080/"
    },
    "id": "9lH7x0W2orDU",
    "outputId": "ec2468b9-5ad3-4822-e73c-f4dad7ecbb3e"
   },
   "outputs": [
    {
     "name": "stdout",
     "output_type": "stream",
     "text": [
      "Accuracy on testing 0.8524590163934426\n"
     ]
    }
   ],
   "source": [
    "from sklearn.ensemble import RandomForestClassifier\n",
    "#model=RandomForestClassifier(random_state=0,criterion='entropy', max_depth=5, max_features='log2',\n",
    "                       #min_samples_leaf=4, n_estimators=50)\n",
    "model=RandomForestClassifier(criterion='entropy', max_depth=11, max_features='sqrt',\n",
    "                       min_samples_leaf=4, min_samples_split=4, n_estimators=25,\n",
    "                       random_state=0)\n",
    "model=model.fit(X_train,Y_train)\n",
    "Y_pred=model.predict(X_test)\n",
    "print(\"Accuracy on testing\",accuracy_score(Y_test,Y_pred))"
   ]
  },
  {
   "cell_type": "code",
   "execution_count": null,
   "metadata": {
    "colab": {
     "base_uri": "https://localhost:8080/"
    },
    "id": "7iALWptHorDV",
    "outputId": "0985288b-849c-4af2-cf81-9060c7596c1a"
   },
   "outputs": [
    {
     "name": "stdout",
     "output_type": "stream",
     "text": [
      "              precision    recall  f1-score   support\n",
      "\n",
      "           0       0.92      0.77      0.84        31\n",
      "           1       0.80      0.93      0.86        30\n",
      "\n",
      "    accuracy                           0.85        61\n",
      "   macro avg       0.86      0.85      0.85        61\n",
      "weighted avg       0.86      0.85      0.85        61\n",
      "\n"
     ]
    }
   ],
   "source": [
    "from sklearn.metrics  import classification_report\n",
    "print(classification_report(Y_test,Y_pred))"
   ]
  },
  {
   "cell_type": "code",
   "execution_count": null,
   "metadata": {
    "id": "xNYoawB0orDW"
   },
   "outputs": [],
   "source": [
    "from sklearn.model_selection import RandomizedSearchCV\n",
    "n_estimators=[int(x) for x in np.linspace(0,50,5)]\n",
    "max_features=[\"auto\",\"sqrt\",\"log2\"]\n",
    "max_depth=[int(x) for x in np.linspace(0,50,10)]\n",
    "min_samples_split=[2,3,4]\n",
    "min_samples_leaf=[2,4,7,4]\n"
   ]
  },
  {
   "cell_type": "code",
   "execution_count": null,
   "metadata": {
    "colab": {
     "base_uri": "https://localhost:8080/"
    },
    "id": "o_OKFKSJorDX",
    "outputId": "eb80f6e5-b2a3-454e-bc1d-9df2127bb1d8"
   },
   "outputs": [
    {
     "name": "stdout",
     "output_type": "stream",
     "text": [
      "{'n_estimators': [0, 12, 25, 37, 50], 'max_features': ['auto', 'sqrt', 'log2'], 'max_depth': [0, 5, 11, 16, 22, 27, 33, 38, 44, 50], 'min_samples_split': [2, 3, 4], 'min_samples_leaf': [2, 4, 7, 4], 'criterion': ['gini', 'entropy']}\n",
      "Fitting 10 folds for each of 25 candidates, totalling 250 fits\n"
     ]
    },
    {
     "name": "stderr",
     "output_type": "stream",
     "text": [
      "[Parallel(n_jobs=-1)]: Using backend LokyBackend with 2 concurrent workers.\n",
      "[Parallel(n_jobs=-1)]: Done  70 tasks      | elapsed:    3.1s\n",
      "[Parallel(n_jobs=-1)]: Done 250 out of 250 | elapsed:    9.5s finished\n"
     ]
    },
    {
     "data": {
      "text/plain": [
       "RandomizedSearchCV(cv=StratifiedKFold(n_splits=10, random_state=1, shuffle=True),\n",
       "                   error_score=nan,\n",
       "                   estimator=RandomForestClassifier(bootstrap=True,\n",
       "                                                    ccp_alpha=0.0,\n",
       "                                                    class_weight=None,\n",
       "                                                    criterion='entropy',\n",
       "                                                    max_depth=11,\n",
       "                                                    max_features='sqrt',\n",
       "                                                    max_leaf_nodes=None,\n",
       "                                                    max_samples=None,\n",
       "                                                    min_impurity_decrease=0.0,\n",
       "                                                    min_impurity_split=None,\n",
       "                                                    min_samples_leaf=4,\n",
       "                                                    min_samples_spli...\n",
       "                   iid='deprecated', n_iter=25, n_jobs=-1,\n",
       "                   param_distributions={'criterion': ['gini', 'entropy'],\n",
       "                                        'max_depth': [0, 5, 11, 16, 22, 27, 33,\n",
       "                                                      38, 44, 50],\n",
       "                                        'max_features': ['auto', 'sqrt',\n",
       "                                                         'log2'],\n",
       "                                        'min_samples_leaf': [2, 4, 7, 4],\n",
       "                                        'min_samples_split': [2, 3, 4],\n",
       "                                        'n_estimators': [0, 12, 25, 37, 50]},\n",
       "                   pre_dispatch='2*n_jobs', random_state=50, refit=True,\n",
       "                   return_train_score=False, scoring=None, verbose=2)"
      ]
     },
     "execution_count": 16,
     "metadata": {},
     "output_type": "execute_result"
    }
   ],
   "source": [
    "random_grid={\"n_estimators\":n_estimators,\"max_features\":max_features,\"max_depth\":max_depth,\"min_samples_split\":min_samples_split,\"min_samples_leaf\":min_samples_leaf,\"criterion\":[\"gini\",\"entropy\" ]}\n",
    "print(random_grid)\n",
    "\n",
    "rf_randomCV=RandomizedSearchCV(estimator=model,param_distributions=random_grid,n_iter=25,cv=cv,verbose=2,random_state=50,n_jobs=-1)\n",
    "rf_randomCV.fit(X_train,Y_train)\n",
    "\n"
   ]
  },
  {
   "cell_type": "code",
   "execution_count": null,
   "metadata": {
    "colab": {
     "base_uri": "https://localhost:8080/"
    },
    "id": "Gv_cG98VorDY",
    "outputId": "0c8f96a2-9025-4d4e-f398-dc50da3a843e"
   },
   "outputs": [
    {
     "data": {
      "text/plain": [
       "RandomForestClassifier(bootstrap=True, ccp_alpha=0.0, class_weight=None,\n",
       "                       criterion='entropy', max_depth=11, max_features='sqrt',\n",
       "                       max_leaf_nodes=None, max_samples=None,\n",
       "                       min_impurity_decrease=0.0, min_impurity_split=None,\n",
       "                       min_samples_leaf=4, min_samples_split=4,\n",
       "                       min_weight_fraction_leaf=0.0, n_estimators=25,\n",
       "                       n_jobs=None, oob_score=False, random_state=0, verbose=0,\n",
       "                       warm_start=False)"
      ]
     },
     "execution_count": 17,
     "metadata": {},
     "output_type": "execute_result"
    }
   ],
   "source": [
    "rf_randomCV.best_estimator_\n",
    "\n"
   ]
  },
  {
   "cell_type": "markdown",
   "metadata": {
    "id": "ZSgU2L6YorDa"
   },
   "source": [
    "### KNN with cross validation"
   ]
  },
  {
   "cell_type": "code",
   "execution_count": null,
   "metadata": {
    "colab": {
     "base_uri": "https://localhost:8080/"
    },
    "id": "rDS62crjorDa",
    "outputId": "bd22cb35-661b-4327-b0d2-f820bc0b0ebc"
   },
   "outputs": [
    {
     "data": {
      "text/plain": [
       "[nan,\n",
       " 0.723,\n",
       " 0.723,\n",
       " 0.7683333333333333,\n",
       " 0.7725,\n",
       " 0.7686666666666666,\n",
       " 0.7686666666666667,\n",
       " 0.7686666666666666,\n",
       " 0.7601666666666665,\n",
       " 0.7685,\n",
       " 0.777,\n",
       " 0.8016666666666667,\n",
       " 0.7933333333333333,\n",
       " 0.7973333333333333,\n",
       " 0.7975000000000001,\n",
       " 0.7933333333333333,\n",
       " 0.7891666666666668,\n",
       " 0.7891666666666668,\n",
       " 0.785,\n",
       " 0.7891666666666667,\n",
       " 0.7933333333333333,\n",
       " 0.7891666666666667,\n",
       " 0.7891666666666667,\n",
       " 0.7808333333333334,\n",
       " 0.7808333333333334]"
      ]
     },
     "execution_count": 20,
     "metadata": {},
     "output_type": "execute_result"
    }
   ],
   "source": [
    "from sklearn.neighbors import KNeighborsClassifier\n",
    "knn_scores=[]\n",
    "for k in range(0,25):\n",
    "    model3=KNeighborsClassifier(n_neighbors=k)\n",
    "    score=cross_val_score(model3,X_train,Y_train,cv=cv)\n",
    "    knn_scores.append(score.mean())\n",
    "knn_scores"
   ]
  },
  {
   "cell_type": "code",
   "execution_count": null,
   "metadata": {
    "colab": {
     "base_uri": "https://localhost:8080/",
     "height": 914
    },
    "id": "r_HY85VaorDb",
    "outputId": "d4408973-8144-485a-f917-c312e2dc6096"
   },
   "outputs": [
    {
     "name": "stderr",
     "output_type": "stream",
     "text": [
      "posx and posy should be finite values\n",
      "posx and posy should be finite values\n",
      "posx and posy should be finite values\n"
     ]
    },
    {
     "data": {
      "image/png": "[encoded data removed]",
      "text/plain": [
       "<Figure size 1080x1080 with 1 Axes>"
      ]
     },
     "metadata": {
      "needs_background": "light"
     },
     "output_type": "display_data"
    }
   ],
   "source": [
    "k=[]\n",
    "plt.figure(figsize=(15,15))\n",
    "plt.plot(knn_scores,[i for i in range(1,26)])\n",
    "for i in range(1,26):\n",
    "    \n",
    "    plt.text(knn_scores[i-1],i,(knn_scores[i-1],i))"
   ]
  },
  {
   "cell_type": "code",
   "execution_count": null,
   "metadata": {
    "colab": {
     "base_uri": "https://localhost:8080/"
    },
    "id": "9PVr4Aa9orDc",
    "outputId": "795b50d6-c25b-4309-f7be-a6a0b25f9085"
   },
   "outputs": [
    {
     "name": "stdout",
     "output_type": "stream",
     "text": [
      "Accuracy on testing 0.7540983606557377\n"
     ]
    }
   ],
   "source": [
    "from sklearn.neighbors import KNeighborsClassifier\n",
    "model3=KNeighborsClassifier(n_neighbors=15).fit(X_train,Y_train)\n",
    "Y_pred=model3.predict(X_test)\n",
    "\n",
    "print(\"Accuracy on testing\",accuracy_score(Y_test,Y_pred))"
   ]
  },
  {
   "cell_type": "markdown",
   "metadata": {},
   "source": [
    "### Using ANN"
   ]
  },
  {
   "cell_type": "code",
   "execution_count": 10,
   "metadata": {
    "colab": {
     "base_uri": "https://localhost:8080/"
    },
    "id": "Bl-5DBCSjKu7",
    "outputId": "6ed602a8-beeb-4859-90c5-1d2fc48d5157"
   },
   "outputs": [
    {
     "name": "stdout",
     "output_type": "stream",
     "text": [
      "Collecting keras-tuner\n",
      "  Downloading keras_tuner-1.0.4-py3-none-any.whl (97 kB)\n",
      "\u001b[?25l\r",
      "\u001b[K     |███▍                            | 10 kB 25.6 MB/s eta 0:00:01\r",
      "\u001b[K     |██████▊                         | 20 kB 27.7 MB/s eta 0:00:01\r",
      "\u001b[K     |██████████                      | 30 kB 12.7 MB/s eta 0:00:01\r",
      "\u001b[K     |█████████████▍                  | 40 kB 9.6 MB/s eta 0:00:01\r",
      "\u001b[K     |████████████████▊               | 51 kB 5.4 MB/s eta 0:00:01\r",
      "\u001b[K     |████████████████████            | 61 kB 5.9 MB/s eta 0:00:01\r",
      "\u001b[K     |███████████████████████▍        | 71 kB 5.6 MB/s eta 0:00:01\r",
      "\u001b[K     |██████████████████████████▊     | 81 kB 6.3 MB/s eta 0:00:01\r",
      "\u001b[K     |██████████████████████████████▏ | 92 kB 4.9 MB/s eta 0:00:01\r",
      "\u001b[K     |████████████████████████████████| 97 kB 3.2 MB/s \n",
      "\u001b[?25hCollecting kt-legacy\n",
      "  Downloading kt_legacy-1.0.4-py3-none-any.whl (9.6 kB)\n",
      "Requirement already satisfied: ipython in /usr/local/lib/python3.7/dist-packages (from keras-tuner) (5.5.0)\n",
      "Requirement already satisfied: numpy in /usr/local/lib/python3.7/dist-packages (from keras-tuner) (1.19.5)\n",
      "Requirement already satisfied: scipy in /usr/local/lib/python3.7/dist-packages (from keras-tuner) (1.4.1)\n",
      "Requirement already satisfied: packaging in /usr/local/lib/python3.7/dist-packages (from keras-tuner) (21.0)\n",
      "Requirement already satisfied: requests in /usr/local/lib/python3.7/dist-packages (from keras-tuner) (2.23.0)\n",
      "Requirement already satisfied: tensorboard in /usr/local/lib/python3.7/dist-packages (from keras-tuner) (2.6.0)\n",
      "Requirement already satisfied: pickleshare in /usr/local/lib/python3.7/dist-packages (from ipython->keras-tuner) (0.7.5)\n",
      "Requirement already satisfied: setuptools>=18.5 in /usr/local/lib/python3.7/dist-packages (from ipython->keras-tuner) (57.4.0)\n",
      "Requirement already satisfied: pygments in /usr/local/lib/python3.7/dist-packages (from ipython->keras-tuner) (2.6.1)\n",
      "Requirement already satisfied: decorator in /usr/local/lib/python3.7/dist-packages (from ipython->keras-tuner) (4.4.2)\n",
      "Requirement already satisfied: pexpect in /usr/local/lib/python3.7/dist-packages (from ipython->keras-tuner) (4.8.0)\n",
      "Requirement already satisfied: simplegeneric>0.8 in /usr/local/lib/python3.7/dist-packages (from ipython->keras-tuner) (0.8.1)\n",
      "Requirement already satisfied: prompt-toolkit<2.0.0,>=1.0.4 in /usr/local/lib/python3.7/dist-packages (from ipython->keras-tuner) (1.0.18)\n",
      "Requirement already satisfied: traitlets>=4.2 in /usr/local/lib/python3.7/dist-packages (from ipython->keras-tuner) (5.0.5)\n",
      "Requirement already satisfied: wcwidth in /usr/local/lib/python3.7/dist-packages (from prompt-toolkit<2.0.0,>=1.0.4->ipython->keras-tuner) (0.2.5)\n",
      "Requirement already satisfied: six>=1.9.0 in /usr/local/lib/python3.7/dist-packages (from prompt-toolkit<2.0.0,>=1.0.4->ipython->keras-tuner) (1.15.0)\n",
      "Requirement already satisfied: ipython-genutils in /usr/local/lib/python3.7/dist-packages (from traitlets>=4.2->ipython->keras-tuner) (0.2.0)\n",
      "Requirement already satisfied: pyparsing>=2.0.2 in /usr/local/lib/python3.7/dist-packages (from packaging->keras-tuner) (2.4.7)\n",
      "Requirement already satisfied: ptyprocess>=0.5 in /usr/local/lib/python3.7/dist-packages (from pexpect->ipython->keras-tuner) (0.7.0)\n",
      "Requirement already satisfied: urllib3!=1.25.0,!=1.25.1,<1.26,>=1.21.1 in /usr/local/lib/python3.7/dist-packages (from requests->keras-tuner) (1.24.3)\n",
      "Requirement already satisfied: chardet<4,>=3.0.2 in /usr/local/lib/python3.7/dist-packages (from requests->keras-tuner) (3.0.4)\n",
      "Requirement already satisfied: certifi>=2017.4.17 in /usr/local/lib/python3.7/dist-packages (from requests->keras-tuner) (2021.5.30)\n",
      "Requirement already satisfied: idna<3,>=2.5 in /usr/local/lib/python3.7/dist-packages (from requests->keras-tuner) (2.10)\n",
      "Requirement already satisfied: protobuf>=3.6.0 in /usr/local/lib/python3.7/dist-packages (from tensorboard->keras-tuner) (3.17.3)\n",
      "Requirement already satisfied: google-auth-oauthlib<0.5,>=0.4.1 in /usr/local/lib/python3.7/dist-packages (from tensorboard->keras-tuner) (0.4.5)\n",
      "Requirement already satisfied: tensorboard-plugin-wit>=1.6.0 in /usr/local/lib/python3.7/dist-packages (from tensorboard->keras-tuner) (1.8.0)\n",
      "Requirement already satisfied: wheel>=0.26 in /usr/local/lib/python3.7/dist-packages (from tensorboard->keras-tuner) (0.37.0)\n",
      "Requirement already satisfied: google-auth<2,>=1.6.3 in /usr/local/lib/python3.7/dist-packages (from tensorboard->keras-tuner) (1.34.0)\n",
      "Requirement already satisfied: tensorboard-data-server<0.7.0,>=0.6.0 in /usr/local/lib/python3.7/dist-packages (from tensorboard->keras-tuner) (0.6.1)\n",
      "Requirement already satisfied: werkzeug>=0.11.15 in /usr/local/lib/python3.7/dist-packages (from tensorboard->keras-tuner) (1.0.1)\n",
      "Requirement already satisfied: markdown>=2.6.8 in /usr/local/lib/python3.7/dist-packages (from tensorboard->keras-tuner) (3.3.4)\n",
      "Requirement already satisfied: absl-py>=0.4 in /usr/local/lib/python3.7/dist-packages (from tensorboard->keras-tuner) (0.12.0)\n",
      "Requirement already satisfied: grpcio>=1.24.3 in /usr/local/lib/python3.7/dist-packages (from tensorboard->keras-tuner) (1.39.0)\n",
      "Requirement already satisfied: rsa<5,>=3.1.4 in /usr/local/lib/python3.7/dist-packages (from google-auth<2,>=1.6.3->tensorboard->keras-tuner) (4.7.2)\n",
      "Requirement already satisfied: cachetools<5.0,>=2.0.0 in /usr/local/lib/python3.7/dist-packages (from google-auth<2,>=1.6.3->tensorboard->keras-tuner) (4.2.2)\n",
      "Requirement already satisfied: pyasn1-modules>=0.2.1 in /usr/local/lib/python3.7/dist-packages (from google-auth<2,>=1.6.3->tensorboard->keras-tuner) (0.2.8)\n",
      "Requirement already satisfied: requests-oauthlib>=0.7.0 in /usr/local/lib/python3.7/dist-packages (from google-auth-oauthlib<0.5,>=0.4.1->tensorboard->keras-tuner) (1.3.0)\n",
      "Requirement already satisfied: importlib-metadata in /usr/local/lib/python3.7/dist-packages (from markdown>=2.6.8->tensorboard->keras-tuner) (4.6.4)\n",
      "Requirement already satisfied: pyasn1<0.5.0,>=0.4.6 in /usr/local/lib/python3.7/dist-packages (from pyasn1-modules>=0.2.1->google-auth<2,>=1.6.3->tensorboard->keras-tuner) (0.4.8)\n",
      "Requirement already satisfied: oauthlib>=3.0.0 in /usr/local/lib/python3.7/dist-packages (from requests-oauthlib>=0.7.0->google-auth-oauthlib<0.5,>=0.4.1->tensorboard->keras-tuner) (3.1.1)\n",
      "Requirement already satisfied: zipp>=0.5 in /usr/local/lib/python3.7/dist-packages (from importlib-metadata->markdown>=2.6.8->tensorboard->keras-tuner) (3.5.0)\n",
      "Requirement already satisfied: typing-extensions>=3.6.4 in /usr/local/lib/python3.7/dist-packages (from importlib-metadata->markdown>=2.6.8->tensorboard->keras-tuner) (3.7.4.3)\n",
      "Installing collected packages: kt-legacy, keras-tuner\n",
      "Successfully installed keras-tuner-1.0.4 kt-legacy-1.0.4\n"
     ]
    }
   ],
   "source": [
    "!pip install keras-tuner"
   ]
  },
  {
   "cell_type": "code",
   "execution_count": 10,
   "metadata": {
    "id": "lmDynt17orDe"
   },
   "outputs": [],
   "source": [
    "#USING ANN\n",
    "from tensorflow import keras\n",
    "from tensorflow.keras import layers\n",
    "import kerastuner\n",
    "#import keras,kerastuner\n",
    "from keras.models import Sequential\n",
    "from keras.layers import Dense\n",
    "#from keras.layers import LeakyReLU,PReLU,ELU,ReLU\n",
    "from keras.layers import Dropout\n",
    "from keras.optimizers import adam_v2\n",
    "from kerastuner.tuners import RandomSearch"
   ]
  },
  {
   "cell_type": "code",
   "execution_count": 132,
   "metadata": {
    "id": "k0bMOfdwvnM7"
   },
   "outputs": [],
   "source": [
    "model=Sequential()"
   ]
  },
  {
   "cell_type": "code",
   "execution_count": 133,
   "metadata": {
    "id": "BXmZ7Xd3xXuE"
   },
   "outputs": [],
   "source": [
    "\n",
    "model.add(Dense(units=5,kernel_initializer=\"he_uniform\",activation=\"elu\",input_dim=13))"
   ]
  },
  {
   "cell_type": "code",
   "execution_count": 134,
   "metadata": {
    "id": "x-mlyeazzJGb"
   },
   "outputs": [],
   "source": [
    "\n",
    "model.add(Dense(units=5,kernel_initializer=\"he_uniform\",activation=\"elu\"))\n"
   ]
  },
  {
   "cell_type": "code",
   "execution_count": 135,
   "metadata": {
    "id": "NuEOqDfmzYgb"
   },
   "outputs": [],
   "source": [
    "\n",
    "model.add(Dense(units=1,kernel_initializer=\"glorot_uniform\",activation=\"sigmoid\"))"
   ]
  },
  {
   "cell_type": "code",
   "execution_count": 136,
   "metadata": {
    "id": "GeXumMJdzob5"
   },
   "outputs": [],
   "source": [
    "\n",
    "\n",
    "model.compile(optimizer=\"adam\",loss=\"binary_crossentropy\",metrics=[\"accuracy\"])"
   ]
  },
  {
   "cell_type": "code",
   "execution_count": 137,
   "metadata": {
    "colab": {
     "base_uri": "https://localhost:8080/"
    },
    "id": "EWZO9YwMfyAB",
    "outputId": "f5a41e6c-d5dd-456c-882c-7bb006a78f23"
   },
   "outputs": [
    {
     "name": "stdout",
     "output_type": "stream",
     "text": [
      "Epoch 1/100\n",
      "25/25 [==============================] - 1s 15ms/step - loss: 184.1722 - accuracy: 0.5337 - val_loss: 0.9349 - val_accuracy: 0.5714\n",
      "Epoch 2/100\n",
      "25/25 [==============================] - 0s 3ms/step - loss: 174.6186 - accuracy: 0.5337 - val_loss: 0.8583 - val_accuracy: 0.5714\n",
      "Epoch 3/100\n",
      "25/25 [==============================] - 0s 3ms/step - loss: 162.2829 - accuracy: 0.5337 - val_loss: 0.7979 - val_accuracy: 0.5714\n",
      "Epoch 4/100\n",
      "25/25 [==============================] - 0s 3ms/step - loss: 151.4397 - accuracy: 0.5389 - val_loss: 0.7610 - val_accuracy: 0.5714\n",
      "Epoch 5/100\n",
      "25/25 [==============================] - 0s 3ms/step - loss: 142.2499 - accuracy: 0.5285 - val_loss: 0.7334 - val_accuracy: 0.5714\n",
      "Epoch 6/100\n",
      "25/25 [==============================] - 0s 3ms/step - loss: 129.4034 - accuracy: 0.5233 - val_loss: 0.7138 - val_accuracy: 0.5714\n",
      "Epoch 7/100\n",
      "25/25 [==============================] - 0s 3ms/step - loss: 120.6399 - accuracy: 0.5285 - val_loss: 0.7008 - val_accuracy: 0.5714\n",
      "Epoch 8/100\n",
      "25/25 [==============================] - 0s 3ms/step - loss: 110.7423 - accuracy: 0.5337 - val_loss: 0.6880 - val_accuracy: 0.5510\n",
      "Epoch 9/100\n",
      "25/25 [==============================] - 0s 3ms/step - loss: 100.0708 - accuracy: 0.5285 - val_loss: 0.6780 - val_accuracy: 0.5510\n",
      "Epoch 10/100\n",
      "25/25 [==============================] - 0s 3ms/step - loss: 91.5955 - accuracy: 0.5389 - val_loss: 0.6704 - val_accuracy: 0.5510\n",
      "Epoch 11/100\n",
      "25/25 [==============================] - 0s 3ms/step - loss: 82.0852 - accuracy: 0.5648 - val_loss: 0.6630 - val_accuracy: 0.5714\n",
      "Epoch 12/100\n",
      "25/25 [==============================] - 0s 3ms/step - loss: 73.4562 - accuracy: 0.5959 - val_loss: 0.6552 - val_accuracy: 0.5714\n",
      "Epoch 13/100\n",
      "25/25 [==============================] - 0s 3ms/step - loss: 63.2164 - accuracy: 0.6114 - val_loss: 0.6492 - val_accuracy: 0.5510\n",
      "Epoch 14/100\n",
      "25/25 [==============================] - 0s 3ms/step - loss: 57.1961 - accuracy: 0.6373 - val_loss: 0.6429 - val_accuracy: 0.5918\n",
      "Epoch 15/100\n",
      "25/25 [==============================] - 0s 3ms/step - loss: 54.1461 - accuracy: 0.6580 - val_loss: 0.6358 - val_accuracy: 0.6122\n",
      "Epoch 16/100\n",
      "25/25 [==============================] - 0s 3ms/step - loss: 52.3750 - accuracy: 0.6788 - val_loss: 0.6298 - val_accuracy: 0.6327\n",
      "Epoch 17/100\n",
      "25/25 [==============================] - 0s 3ms/step - loss: 47.8258 - accuracy: 0.6891 - val_loss: 0.6249 - val_accuracy: 0.6531\n",
      "Epoch 18/100\n",
      "25/25 [==============================] - 0s 3ms/step - loss: 45.2195 - accuracy: 0.6891 - val_loss: 0.6182 - val_accuracy: 0.6531\n",
      "Epoch 19/100\n",
      "25/25 [==============================] - 0s 3ms/step - loss: 41.8388 - accuracy: 0.7047 - val_loss: 0.6120 - val_accuracy: 0.6735\n",
      "Epoch 20/100\n",
      "25/25 [==============================] - 0s 3ms/step - loss: 38.8301 - accuracy: 0.7150 - val_loss: 0.6073 - val_accuracy: 0.6327\n",
      "Epoch 21/100\n",
      "25/25 [==============================] - 0s 3ms/step - loss: 36.0648 - accuracy: 0.7306 - val_loss: 0.6030 - val_accuracy: 0.6939\n",
      "Epoch 22/100\n",
      "25/25 [==============================] - 0s 3ms/step - loss: 32.9706 - accuracy: 0.7150 - val_loss: 0.5998 - val_accuracy: 0.6939\n",
      "Epoch 23/100\n",
      "25/25 [==============================] - 0s 3ms/step - loss: 31.5102 - accuracy: 0.7202 - val_loss: 0.5958 - val_accuracy: 0.6939\n",
      "Epoch 24/100\n",
      "25/25 [==============================] - 0s 3ms/step - loss: 27.1845 - accuracy: 0.7306 - val_loss: 0.5917 - val_accuracy: 0.6939\n",
      "Epoch 25/100\n",
      "25/25 [==============================] - 0s 3ms/step - loss: 24.0912 - accuracy: 0.7461 - val_loss: 0.5891 - val_accuracy: 0.6735\n",
      "Epoch 26/100\n",
      "25/25 [==============================] - 0s 3ms/step - loss: 22.5646 - accuracy: 0.7565 - val_loss: 0.5877 - val_accuracy: 0.6939\n",
      "Epoch 27/100\n",
      "25/25 [==============================] - 0s 3ms/step - loss: 17.7946 - accuracy: 0.7565 - val_loss: 0.5866 - val_accuracy: 0.6735\n",
      "Epoch 28/100\n",
      "25/25 [==============================] - 0s 3ms/step - loss: 13.5297 - accuracy: 0.7513 - val_loss: 0.5841 - val_accuracy: 0.6735\n",
      "Epoch 29/100\n",
      "25/25 [==============================] - 0s 3ms/step - loss: 9.2220 - accuracy: 0.7513 - val_loss: 0.5824 - val_accuracy: 0.6735\n",
      "Epoch 30/100\n",
      "25/25 [==============================] - 0s 3ms/step - loss: 5.9473 - accuracy: 0.7461 - val_loss: 0.5798 - val_accuracy: 0.6939\n",
      "Epoch 31/100\n",
      "25/25 [==============================] - 0s 3ms/step - loss: 0.5143 - accuracy: 0.7461 - val_loss: 3.6392 - val_accuracy: 0.6735\n",
      "Epoch 32/100\n",
      "25/25 [==============================] - 0s 3ms/step - loss: 2.2257 - accuracy: 0.7513 - val_loss: 2.2744 - val_accuracy: 0.6735\n",
      "Epoch 33/100\n",
      "25/25 [==============================] - 0s 3ms/step - loss: 4.1733 - accuracy: 0.7668 - val_loss: 0.5713 - val_accuracy: 0.6939\n",
      "Epoch 34/100\n",
      "25/25 [==============================] - 0s 3ms/step - loss: 0.4998 - accuracy: 0.7772 - val_loss: 1.7738 - val_accuracy: 0.6735\n",
      "Epoch 35/100\n",
      "25/25 [==============================] - 0s 3ms/step - loss: 3.7194 - accuracy: 0.7772 - val_loss: 0.5689 - val_accuracy: 0.6939\n",
      "Epoch 36/100\n",
      "25/25 [==============================] - 0s 3ms/step - loss: 0.6559 - accuracy: 0.7772 - val_loss: 13.7706 - val_accuracy: 0.6531\n",
      "Epoch 37/100\n",
      "25/25 [==============================] - 0s 3ms/step - loss: 4.8243 - accuracy: 0.7772 - val_loss: 6.8849 - val_accuracy: 0.6327\n",
      "Epoch 38/100\n",
      "25/25 [==============================] - 0s 3ms/step - loss: 0.9185 - accuracy: 0.7772 - val_loss: 0.5883 - val_accuracy: 0.6327\n",
      "Epoch 39/100\n",
      "25/25 [==============================] - 0s 3ms/step - loss: 3.5084 - accuracy: 0.7824 - val_loss: 0.5656 - val_accuracy: 0.6531\n",
      "Epoch 40/100\n",
      "25/25 [==============================] - 0s 3ms/step - loss: 2.2820 - accuracy: 0.7876 - val_loss: 3.3604 - val_accuracy: 0.6531\n",
      "Epoch 41/100\n",
      "25/25 [==============================] - 0s 3ms/step - loss: 4.2709 - accuracy: 0.7876 - val_loss: 0.5623 - val_accuracy: 0.6735\n",
      "Epoch 42/100\n",
      "25/25 [==============================] - 0s 3ms/step - loss: 1.2752 - accuracy: 0.7876 - val_loss: 0.5614 - val_accuracy: 0.6735\n",
      "Epoch 43/100\n",
      "25/25 [==============================] - 0s 3ms/step - loss: 0.5607 - accuracy: 0.7979 - val_loss: 7.7360 - val_accuracy: 0.6735\n",
      "Epoch 44/100\n",
      "25/25 [==============================] - 0s 3ms/step - loss: 2.9025 - accuracy: 0.7979 - val_loss: 1.1178 - val_accuracy: 0.6735\n",
      "Epoch 45/100\n",
      "25/25 [==============================] - 0s 3ms/step - loss: 0.4615 - accuracy: 0.8083 - val_loss: 0.5589 - val_accuracy: 0.6939\n",
      "Epoch 46/100\n",
      "25/25 [==============================] - 0s 3ms/step - loss: 2.5812 - accuracy: 0.7979 - val_loss: 4.8557 - val_accuracy: 0.6939\n",
      "Epoch 47/100\n",
      "25/25 [==============================] - 0s 3ms/step - loss: 0.6372 - accuracy: 0.8031 - val_loss: 0.5572 - val_accuracy: 0.7143\n",
      "Epoch 48/100\n",
      "25/25 [==============================] - 0s 3ms/step - loss: 4.1087 - accuracy: 0.7927 - val_loss: 0.5578 - val_accuracy: 0.6939\n",
      "Epoch 49/100\n",
      "25/25 [==============================] - 0s 3ms/step - loss: 1.3184 - accuracy: 0.7927 - val_loss: 10.8814 - val_accuracy: 0.6735\n",
      "Epoch 50/100\n",
      "25/25 [==============================] - 0s 3ms/step - loss: 3.7638 - accuracy: 0.7927 - val_loss: 6.0990 - val_accuracy: 0.6735\n",
      "Epoch 51/100\n",
      "25/25 [==============================] - 0s 3ms/step - loss: 0.5825 - accuracy: 0.7927 - val_loss: 4.6993 - val_accuracy: 0.6735\n",
      "Epoch 52/100\n",
      "25/25 [==============================] - 0s 3ms/step - loss: 3.4663 - accuracy: 0.7979 - val_loss: 5.4449 - val_accuracy: 0.6735\n",
      "Epoch 53/100\n",
      "25/25 [==============================] - 0s 3ms/step - loss: 3.9165 - accuracy: 0.7979 - val_loss: 0.5557 - val_accuracy: 0.6939\n",
      "Epoch 54/100\n",
      "25/25 [==============================] - 0s 3ms/step - loss: 1.2684 - accuracy: 0.8031 - val_loss: 10.0175 - val_accuracy: 0.6735\n",
      "Epoch 55/100\n",
      "25/25 [==============================] - 0s 3ms/step - loss: 3.4543 - accuracy: 0.8031 - val_loss: 3.8796 - val_accuracy: 0.6735\n",
      "Epoch 56/100\n",
      "25/25 [==============================] - 0s 3ms/step - loss: 0.7237 - accuracy: 0.7979 - val_loss: 6.9441 - val_accuracy: 0.6531\n",
      "Epoch 57/100\n",
      "25/25 [==============================] - 0s 3ms/step - loss: 3.2859 - accuracy: 0.7927 - val_loss: 4.0774 - val_accuracy: 0.6531\n",
      "Epoch 58/100\n",
      "25/25 [==============================] - 0s 3ms/step - loss: 0.9300 - accuracy: 0.7979 - val_loss: 0.5500 - val_accuracy: 0.6939\n",
      "Epoch 59/100\n",
      "25/25 [==============================] - 0s 3ms/step - loss: 4.3543 - accuracy: 0.7979 - val_loss: 0.5494 - val_accuracy: 0.6939\n",
      "Epoch 60/100\n",
      "25/25 [==============================] - 0s 3ms/step - loss: 1.3030 - accuracy: 0.7979 - val_loss: 9.6810 - val_accuracy: 0.6735\n",
      "Epoch 61/100\n",
      "25/25 [==============================] - 0s 3ms/step - loss: 3.0158 - accuracy: 0.7927 - val_loss: 0.5458 - val_accuracy: 0.6939\n",
      "Epoch 62/100\n",
      "25/25 [==============================] - 0s 3ms/step - loss: 3.2283 - accuracy: 0.7824 - val_loss: 7.5079 - val_accuracy: 0.6939\n",
      "Epoch 63/100\n",
      "25/25 [==============================] - 0s 3ms/step - loss: 0.9939 - accuracy: 0.7824 - val_loss: 0.5418 - val_accuracy: 0.7143\n",
      "Epoch 64/100\n",
      "25/25 [==============================] - 0s 3ms/step - loss: 2.3958 - accuracy: 0.7927 - val_loss: 0.8273 - val_accuracy: 0.6939\n",
      "Epoch 65/100\n",
      "25/25 [==============================] - 0s 3ms/step - loss: 0.9006 - accuracy: 0.7979 - val_loss: 8.1042 - val_accuracy: 0.6939\n",
      "Epoch 66/100\n",
      "25/25 [==============================] - 0s 4ms/step - loss: 3.0497 - accuracy: 0.7979 - val_loss: 3.9062 - val_accuracy: 0.6735\n",
      "Epoch 67/100\n",
      "25/25 [==============================] - 0s 3ms/step - loss: 0.9081 - accuracy: 0.8031 - val_loss: 5.7273 - val_accuracy: 0.6939\n",
      "Epoch 68/100\n",
      "25/25 [==============================] - 0s 3ms/step - loss: 3.0158 - accuracy: 0.7979 - val_loss: 3.9914 - val_accuracy: 0.6939\n",
      "Epoch 69/100\n",
      "25/25 [==============================] - 0s 3ms/step - loss: 2.4499 - accuracy: 0.7927 - val_loss: 0.5436 - val_accuracy: 0.7143\n",
      "Epoch 70/100\n",
      "25/25 [==============================] - 0s 3ms/step - loss: 12.3017 - accuracy: 0.7927 - val_loss: 0.5450 - val_accuracy: 0.7143\n",
      "Epoch 71/100\n",
      "25/25 [==============================] - 0s 3ms/step - loss: 10.6722 - accuracy: 0.7927 - val_loss: 0.5434 - val_accuracy: 0.7143\n",
      "Epoch 72/100\n",
      "25/25 [==============================] - 0s 3ms/step - loss: 8.6246 - accuracy: 0.7979 - val_loss: 0.5392 - val_accuracy: 0.7143\n",
      "Epoch 73/100\n",
      "25/25 [==============================] - 0s 3ms/step - loss: 6.4295 - accuracy: 0.8083 - val_loss: 0.5418 - val_accuracy: 0.6939\n",
      "Epoch 74/100\n",
      "25/25 [==============================] - 0s 3ms/step - loss: 5.3057 - accuracy: 0.8031 - val_loss: 0.5396 - val_accuracy: 0.7143\n",
      "Epoch 75/100\n",
      "25/25 [==============================] - 0s 3ms/step - loss: 2.1804 - accuracy: 0.8083 - val_loss: 0.5421 - val_accuracy: 0.6939\n",
      "Epoch 76/100\n",
      "25/25 [==============================] - 0s 3ms/step - loss: 0.4044 - accuracy: 0.8083 - val_loss: 1.7238 - val_accuracy: 0.6735\n",
      "Epoch 77/100\n",
      "25/25 [==============================] - 0s 3ms/step - loss: 1.9676 - accuracy: 0.8031 - val_loss: 0.5409 - val_accuracy: 0.7143\n",
      "Epoch 78/100\n",
      "25/25 [==============================] - 0s 3ms/step - loss: 1.8492 - accuracy: 0.7979 - val_loss: 0.5420 - val_accuracy: 0.6939\n",
      "Epoch 79/100\n",
      "25/25 [==============================] - 0s 3ms/step - loss: 4.4402 - accuracy: 0.8031 - val_loss: 8.3877 - val_accuracy: 0.6939\n",
      "Epoch 80/100\n",
      "25/25 [==============================] - 0s 3ms/step - loss: 1.2926 - accuracy: 0.8135 - val_loss: 0.5616 - val_accuracy: 0.6735\n",
      "Epoch 81/100\n",
      "25/25 [==============================] - 0s 3ms/step - loss: 1.9614 - accuracy: 0.8135 - val_loss: 0.5377 - val_accuracy: 0.6939\n",
      "Epoch 82/100\n",
      "25/25 [==============================] - 0s 3ms/step - loss: 2.9507 - accuracy: 0.8083 - val_loss: 8.2863 - val_accuracy: 0.6735\n",
      "Epoch 83/100\n",
      "25/25 [==============================] - 0s 3ms/step - loss: 1.0420 - accuracy: 0.8083 - val_loss: 0.5361 - val_accuracy: 0.6939\n",
      "Epoch 84/100\n",
      "25/25 [==============================] - 0s 3ms/step - loss: 2.2151 - accuracy: 0.8031 - val_loss: 0.5360 - val_accuracy: 0.6939\n",
      "Epoch 85/100\n",
      "25/25 [==============================] - 0s 3ms/step - loss: 0.8908 - accuracy: 0.7979 - val_loss: 0.6157 - val_accuracy: 0.6735\n",
      "Epoch 86/100\n",
      "25/25 [==============================] - 0s 3ms/step - loss: 1.2594 - accuracy: 0.8031 - val_loss: 1.2449 - val_accuracy: 0.6735\n",
      "Epoch 87/100\n",
      "25/25 [==============================] - 0s 3ms/step - loss: 0.8339 - accuracy: 0.8031 - val_loss: 0.5385 - val_accuracy: 0.6939\n",
      "Epoch 88/100\n",
      "25/25 [==============================] - 0s 3ms/step - loss: 1.5695 - accuracy: 0.7979 - val_loss: 0.5347 - val_accuracy: 0.6939\n",
      "Epoch 89/100\n",
      "25/25 [==============================] - 0s 3ms/step - loss: 2.0994 - accuracy: 0.8031 - val_loss: 0.5326 - val_accuracy: 0.6939\n",
      "Epoch 90/100\n",
      "25/25 [==============================] - 0s 3ms/step - loss: 2.9389 - accuracy: 0.8031 - val_loss: 6.2548 - val_accuracy: 0.6735\n",
      "Epoch 91/100\n",
      "25/25 [==============================] - 0s 3ms/step - loss: 2.4708 - accuracy: 0.8031 - val_loss: 0.5351 - val_accuracy: 0.6939\n",
      "Epoch 92/100\n",
      "25/25 [==============================] - 0s 3ms/step - loss: 0.6398 - accuracy: 0.8031 - val_loss: 0.5357 - val_accuracy: 0.6939\n",
      "Epoch 93/100\n",
      "25/25 [==============================] - 0s 4ms/step - loss: 2.1473 - accuracy: 0.8031 - val_loss: 0.5359 - val_accuracy: 0.6939\n",
      "Epoch 94/100\n",
      "25/25 [==============================] - 0s 4ms/step - loss: 0.7593 - accuracy: 0.8083 - val_loss: 0.5341 - val_accuracy: 0.6939\n",
      "Epoch 95/100\n",
      "25/25 [==============================] - 0s 3ms/step - loss: 2.0747 - accuracy: 0.8135 - val_loss: 0.5343 - val_accuracy: 0.7143\n",
      "Epoch 96/100\n",
      "25/25 [==============================] - 0s 3ms/step - loss: 0.6689 - accuracy: 0.8135 - val_loss: 0.5343 - val_accuracy: 0.6939\n",
      "Epoch 97/100\n",
      "25/25 [==============================] - 0s 4ms/step - loss: 1.7692 - accuracy: 0.8083 - val_loss: 0.5337 - val_accuracy: 0.6939\n",
      "Epoch 98/100\n",
      "25/25 [==============================] - 0s 4ms/step - loss: 2.1320 - accuracy: 0.8187 - val_loss: 0.5374 - val_accuracy: 0.6939\n",
      "Epoch 99/100\n",
      "25/25 [==============================] - 0s 3ms/step - loss: 2.8797 - accuracy: 0.8135 - val_loss: 8.0209 - val_accuracy: 0.6735\n",
      "Epoch 100/100\n",
      "25/25 [==============================] - 0s 3ms/step - loss: 2.8742 - accuracy: 0.8135 - val_loss: 0.5420 - val_accuracy: 0.6939\n"
     ]
    }
   ],
   "source": [
    "model_info=model.fit(X_train,Y_train,validation_split=.20,batch_size=8,epochs=100)\n"
   ]
  },
  {
   "cell_type": "code",
   "execution_count": 138,
   "metadata": {
    "colab": {
     "base_uri": "https://localhost:8080/"
    },
    "id": "k7y8q8NogPy4",
    "outputId": "2a1dc925-1090-45de-9f11-5d2c709f669d"
   },
   "outputs": [
    {
     "name": "stdout",
     "output_type": "stream",
     "text": [
      "dict_keys(['loss', 'accuracy', 'val_loss', 'val_accuracy'])\n"
     ]
    }
   ],
   "source": [
    "print(model_info.history.keys())"
   ]
  },
  {
   "cell_type": "code",
   "execution_count": 139,
   "metadata": {
    "colab": {
     "base_uri": "https://localhost:8080/",
     "height": 312
    },
    "id": "50cVr0Cetgzh",
    "outputId": "ec5c0d88-4e0c-494c-e8ec-e05ca7e22d5d"
   },
   "outputs": [
    {
     "data": {
      "text/plain": [
       "<matplotlib.legend.Legend at 0x1bb85ccbb80>"
      ]
     },
     "execution_count": 139,
     "metadata": {},
     "output_type": "execute_result"
    },
    {
     "data": {
      "image/png": "[encoded data removed]",
      "text/plain": [
       "<Figure size 432x288 with 1 Axes>"
      ]
     },
     "metadata": {
      "needs_background": "light"
     },
     "output_type": "display_data"
    }
   ],
   "source": [
    "plt.plot(model_info.history[\"accuracy\"])\n",
    "plt.plot(model_info.history[\"val_accuracy\"])\n",
    "plt.title(\"model accuracy\")\n",
    "plt.ylabel(\"accuracy\")\n",
    "plt.xlabel(\"epoch\")\n",
    "plt.legend([\"train\",\"test\"],loc=\"upper left\")"
   ]
  },
  {
   "cell_type": "markdown",
   "metadata": {},
   "source": [
    "### Tuning"
   ]
  },
  {
   "cell_type": "code",
   "execution_count": 9,
   "metadata": {
    "colab": {
     "base_uri": "https://localhost:8080/"
    },
    "id": "W1HA4u9gL4v2",
    "outputId": "ee93fb94-3f23-4e71-ae9c-4950a4da6ba0"
   },
   "outputs": [
    {
     "name": "stdout",
     "output_type": "stream",
     "text": [
      "Requirement already satisfied: keras-tuner in c:\\users\\iqd dell\\anaconda3\\lib\\site-packages (1.0.4)\n",
      "Requirement already satisfied: tensorboard in c:\\users\\iqd dell\\anaconda3\\lib\\site-packages (from keras-tuner) (2.6.0)\n",
      "Requirement already satisfied: scipy in c:\\users\\iqd dell\\anaconda3\\lib\\site-packages (from keras-tuner) (1.6.2)\n",
      "Requirement already satisfied: numpy in c:\\users\\iqd dell\\appdata\\roaming\\python\\python38\\site-packages (from keras-tuner) (1.19.5)\n",
      "Requirement already satisfied: packaging in c:\\users\\iqd dell\\anaconda3\\lib\\site-packages (from keras-tuner) (20.9)\n",
      "Requirement already satisfied: requests in c:\\users\\iqd dell\\anaconda3\\lib\\site-packages (from keras-tuner) (2.25.1)\n",
      "Requirement already satisfied: kt-legacy in c:\\users\\iqd dell\\anaconda3\\lib\\site-packages (from keras-tuner) (1.0.4)\n",
      "Requirement already satisfied: ipython in c:\\users\\iqd dell\\anaconda3\\lib\\site-packages (from keras-tuner) (7.22.0)\n",
      "Requirement already satisfied: prompt-toolkit!=3.0.0,!=3.0.1,<3.1.0,>=2.0.0 in c:\\users\\iqd dell\\anaconda3\\lib\\site-packages (from ipython->keras-tuner) (3.0.17)\n",
      "Requirement already satisfied: colorama in c:\\users\\iqd dell\\anaconda3\\lib\\site-packages (from ipython->keras-tuner) (0.4.4)\n",
      "Requirement already satisfied: pygments in c:\\users\\iqd dell\\anaconda3\\lib\\site-packages (from ipython->keras-tuner) (2.8.1)\n",
      "Requirement already satisfied: backcall in c:\\users\\iqd dell\\anaconda3\\lib\\site-packages (from ipython->keras-tuner) (0.2.0)\n",
      "Requirement already satisfied: setuptools>=18.5 in c:\\users\\iqd dell\\anaconda3\\lib\\site-packages (from ipython->keras-tuner) (52.0.0.post20210125)\n",
      "Requirement already satisfied: decorator in c:\\users\\iqd dell\\anaconda3\\lib\\site-packages (from ipython->keras-tuner) (5.0.6)\n",
      "Requirement already satisfied: jedi>=0.16 in c:\\users\\iqd dell\\anaconda3\\lib\\site-packages (from ipython->keras-tuner) (0.17.2)\n",
      "Requirement already satisfied: pickleshare in c:\\users\\iqd dell\\anaconda3\\lib\\site-packages (from ipython->keras-tuner) (0.7.5)\n",
      "Requirement already satisfied: traitlets>=4.2 in c:\\users\\iqd dell\\anaconda3\\lib\\site-packages (from ipython->keras-tuner) (5.0.5)\n",
      "Requirement already satisfied: parso<0.8.0,>=0.7.0 in c:\\users\\iqd dell\\anaconda3\\lib\\site-packages (from jedi>=0.16->ipython->keras-tuner) (0.7.0)\n",
      "Requirement already satisfied: wcwidth in c:\\users\\iqd dell\\anaconda3\\lib\\site-packages (from prompt-toolkit!=3.0.0,!=3.0.1,<3.1.0,>=2.0.0->ipython->keras-tuner) (0.2.5)\n",
      "Requirement already satisfied: ipython-genutils in c:\\users\\iqd dell\\anaconda3\\lib\\site-packages (from traitlets>=4.2->ipython->keras-tuner) (0.2.0)\n",
      "Requirement already satisfied: pyparsing>=2.0.2 in c:\\users\\iqd dell\\anaconda3\\lib\\site-packages (from packaging->keras-tuner) (2.4.7)\n",
      "Requirement already satisfied: idna<3,>=2.5 in c:\\users\\iqd dell\\anaconda3\\lib\\site-packages (from requests->keras-tuner) (2.10)\n",
      "Requirement already satisfied: urllib3<1.27,>=1.21.1 in c:\\users\\iqd dell\\anaconda3\\lib\\site-packages (from requests->keras-tuner) (1.26.4)\n",
      "Requirement already satisfied: chardet<5,>=3.0.2 in c:\\users\\iqd dell\\anaconda3\\lib\\site-packages (from requests->keras-tuner) (4.0.0)\n",
      "Requirement already satisfied: certifi>=2017.4.17 in c:\\users\\iqd dell\\anaconda3\\lib\\site-packages (from requests->keras-tuner) (2020.12.5)\n",
      "Requirement already satisfied: google-auth-oauthlib<0.5,>=0.4.1 in c:\\users\\iqd dell\\anaconda3\\lib\\site-packages (from tensorboard->keras-tuner) (0.4.6)\n",
      "Requirement already satisfied: absl-py>=0.4 in c:\\users\\iqd dell\\anaconda3\\lib\\site-packages (from tensorboard->keras-tuner) (0.13.0)\n",
      "Requirement already satisfied: markdown>=2.6.8 in c:\\users\\iqd dell\\anaconda3\\lib\\site-packages (from tensorboard->keras-tuner) (3.3.4)\n",
      "Requirement already satisfied: protobuf>=3.6.0 in c:\\users\\iqd dell\\anaconda3\\lib\\site-packages (from tensorboard->keras-tuner) (3.17.3)\n",
      "Requirement already satisfied: tensorboard-data-server<0.7.0,>=0.6.0 in c:\\users\\iqd dell\\anaconda3\\lib\\site-packages (from tensorboard->keras-tuner) (0.6.1)\n",
      "Requirement already satisfied: werkzeug>=0.11.15 in c:\\users\\iqd dell\\anaconda3\\lib\\site-packages (from tensorboard->keras-tuner) (0.15.5)\n",
      "Requirement already satisfied: google-auth<2,>=1.6.3 in c:\\users\\iqd dell\\anaconda3\\lib\\site-packages (from tensorboard->keras-tuner) (1.35.0)\n",
      "Requirement already satisfied: grpcio>=1.24.3 in c:\\users\\iqd dell\\anaconda3\\lib\\site-packages (from tensorboard->keras-tuner) (1.39.0)\n",
      "Requirement already satisfied: wheel>=0.26 in c:\\users\\iqd dell\\anaconda3\\lib\\site-packages (from tensorboard->keras-tuner) (0.36.2)\n",
      "Requirement already satisfied: tensorboard-plugin-wit>=1.6.0 in c:\\users\\iqd dell\\anaconda3\\lib\\site-packages (from tensorboard->keras-tuner) (1.8.0)\n",
      "Requirement already satisfied: six in c:\\users\\iqd dell\\anaconda3\\lib\\site-packages (from absl-py>=0.4->tensorboard->keras-tuner) (1.15.0)\n",
      "Requirement already satisfied: rsa<5,>=3.1.4 in c:\\users\\iqd dell\\anaconda3\\lib\\site-packages (from google-auth<2,>=1.6.3->tensorboard->keras-tuner) (4.7.2)\n",
      "Requirement already satisfied: cachetools<5.0,>=2.0.0 in c:\\users\\iqd dell\\anaconda3\\lib\\site-packages (from google-auth<2,>=1.6.3->tensorboard->keras-tuner) (4.2.2)\n",
      "Requirement already satisfied: pyasn1-modules>=0.2.1 in c:\\users\\iqd dell\\anaconda3\\lib\\site-packages (from google-auth<2,>=1.6.3->tensorboard->keras-tuner) (0.2.8)\n",
      "Requirement already satisfied: requests-oauthlib>=0.7.0 in c:\\users\\iqd dell\\anaconda3\\lib\\site-packages (from google-auth-oauthlib<0.5,>=0.4.1->tensorboard->keras-tuner) (1.3.0)\n",
      "Requirement already satisfied: pyasn1<0.5.0,>=0.4.6 in c:\\users\\iqd dell\\anaconda3\\lib\\site-packages (from pyasn1-modules>=0.2.1->google-auth<2,>=1.6.3->tensorboard->keras-tuner) (0.4.8)\n",
      "Requirement already satisfied: oauthlib>=3.0.0 in c:\\users\\iqd dell\\anaconda3\\lib\\site-packages (from requests-oauthlib>=0.7.0->google-auth-oauthlib<0.5,>=0.4.1->tensorboard->keras-tuner) (3.1.1)\n"
     ]
    }
   ],
   "source": [
    "\n",
    "!pip install keras-tuner\n",
    "from keras_tuner.tuners import RandomSearch"
   ]
  },
  {
   "cell_type": "code",
   "execution_count": 11,
   "metadata": {
    "id": "s0ZSyVxbCPwS"
   },
   "outputs": [],
   "source": [
    "##KerasTuning\n",
    "from kerastuner.tuners import RandomSearch\n",
    "from tensorflow.keras import  layers\n",
    "def build_model(hp):\n",
    "    model =Sequential()\n",
    "    for i in range(hp.Int('num_layers', 2, 30)):\n",
    "        model.add(Dense(units=hp.Int('units_' + str(i),min_value=2,max_value=312,step=22),activation=hp.Choice('activation',values=['relu', 'tanh', 'sigmoid'],\n",
    "                    default='relu'),kernel_initializer=hp.Choice(\"initilizer\",values=[\"HeNormal\",\"uniform\",\"xavier\"]) ) )\n",
    "    model.add(Dense(1, activation='sigmoid'))\n",
    "    #model.add(Dropout(hp.Float('dropout',min_value=0.0,max_value=0.1,default=0.005, step=0.01) ) )\n",
    "    hp_learning_rate = hp.Choice('learning_rate', values=[1e-2, 1e-3, 1e-4])\n",
    "    model.compile(optimizer='rmsprop',loss='binary_crossentropy',metrics=['accuracy'])\n",
    "    return model"
   ]
  },
  {
   "cell_type": "code",
   "execution_count": 12,
   "metadata": {
    "colab": {
     "base_uri": "https://localhost:8080/",
     "height": 1000
    },
    "id": "878mwX9BilsZ",
    "outputId": "c6fb41a6-5f6b-4423-b6bf-c212a04df22a"
   },
   "outputs": [
    {
     "name": "stdout",
     "output_type": "stream",
     "text": [
      "INFO:tensorflow:Reloading Oracle from existing project .\\untitled_project\\oracle.json\n",
      "INFO:tensorflow:Reloading Tuner from .\\untitled_project\\tuner0.json\n"
     ]
    }
   ],
   "source": [
    "tuner = RandomSearch(\n",
    "    build_model,## Here this build_model is a hypermodel which is the first parameter of randomSearch it automatically pass a hp\n",
    "    # parameter with a function call of build_model function\n",
    "    objective='accuracy',\n",
    "    max_trials=5,\n",
    "    executions_per_trial=1)\n",
    "    #directory='project',\n",
    "    #project_name='Air Quality Index'))"
   ]
  },
  {
   "cell_type": "code",
   "execution_count": 13,
   "metadata": {
    "colab": {
     "base_uri": "https://localhost:8080/"
    },
    "id": "j9gXoCVhixuL",
    "outputId": "c294b87c-8b5d-4c9f-c381-560f955e379e"
   },
   "outputs": [
    {
     "name": "stdout",
     "output_type": "stream",
     "text": [
      "Search space summary\n",
      "Default search space size: 33\n",
      "num_layers (Int)\n",
      "{'default': None, 'conditions': [], 'min_value': 2, 'max_value': 30, 'step': 1, 'sampling': None}\n",
      "units_0 (Int)\n",
      "{'default': None, 'conditions': [], 'min_value': 2, 'max_value': 312, 'step': 22, 'sampling': None}\n",
      "activation (Choice)\n",
      "{'default': 'relu', 'conditions': [], 'values': ['relu', 'tanh', 'sigmoid'], 'ordered': False}\n",
      "initilizer (Choice)\n",
      "{'default': 'HeNormal', 'conditions': [], 'values': ['HeNormal', 'uniform', 'xavier'], 'ordered': False}\n",
      "units_1 (Int)\n",
      "{'default': None, 'conditions': [], 'min_value': 2, 'max_value': 312, 'step': 22, 'sampling': None}\n",
      "learning_rate (Choice)\n",
      "{'default': 0.01, 'conditions': [], 'values': [0.01, 0.001, 0.0001], 'ordered': True}\n",
      "units_2 (Int)\n",
      "{'default': None, 'conditions': [], 'min_value': 2, 'max_value': 312, 'step': 22, 'sampling': None}\n",
      "units_3 (Int)\n",
      "{'default': None, 'conditions': [], 'min_value': 2, 'max_value': 312, 'step': 22, 'sampling': None}\n",
      "units_4 (Int)\n",
      "{'default': None, 'conditions': [], 'min_value': 2, 'max_value': 312, 'step': 22, 'sampling': None}\n",
      "units_5 (Int)\n",
      "{'default': None, 'conditions': [], 'min_value': 2, 'max_value': 312, 'step': 22, 'sampling': None}\n",
      "units_6 (Int)\n",
      "{'default': None, 'conditions': [], 'min_value': 2, 'max_value': 312, 'step': 22, 'sampling': None}\n",
      "units_7 (Int)\n",
      "{'default': None, 'conditions': [], 'min_value': 2, 'max_value': 312, 'step': 22, 'sampling': None}\n",
      "units_8 (Int)\n",
      "{'default': None, 'conditions': [], 'min_value': 2, 'max_value': 312, 'step': 22, 'sampling': None}\n",
      "units_9 (Int)\n",
      "{'default': None, 'conditions': [], 'min_value': 2, 'max_value': 312, 'step': 22, 'sampling': None}\n",
      "units_10 (Int)\n",
      "{'default': None, 'conditions': [], 'min_value': 2, 'max_value': 312, 'step': 22, 'sampling': None}\n",
      "units_11 (Int)\n",
      "{'default': None, 'conditions': [], 'min_value': 2, 'max_value': 312, 'step': 22, 'sampling': None}\n",
      "units_12 (Int)\n",
      "{'default': None, 'conditions': [], 'min_value': 2, 'max_value': 312, 'step': 22, 'sampling': None}\n",
      "units_13 (Int)\n",
      "{'default': None, 'conditions': [], 'min_value': 2, 'max_value': 312, 'step': 22, 'sampling': None}\n",
      "units_14 (Int)\n",
      "{'default': None, 'conditions': [], 'min_value': 2, 'max_value': 312, 'step': 22, 'sampling': None}\n",
      "units_15 (Int)\n",
      "{'default': None, 'conditions': [], 'min_value': 2, 'max_value': 312, 'step': 22, 'sampling': None}\n",
      "units_16 (Int)\n",
      "{'default': None, 'conditions': [], 'min_value': 2, 'max_value': 312, 'step': 22, 'sampling': None}\n",
      "units_17 (Int)\n",
      "{'default': None, 'conditions': [], 'min_value': 2, 'max_value': 312, 'step': 22, 'sampling': None}\n",
      "units_18 (Int)\n",
      "{'default': None, 'conditions': [], 'min_value': 2, 'max_value': 312, 'step': 22, 'sampling': None}\n",
      "units_19 (Int)\n",
      "{'default': None, 'conditions': [], 'min_value': 2, 'max_value': 312, 'step': 22, 'sampling': None}\n",
      "units_20 (Int)\n",
      "{'default': None, 'conditions': [], 'min_value': 2, 'max_value': 312, 'step': 22, 'sampling': None}\n",
      "units_21 (Int)\n",
      "{'default': None, 'conditions': [], 'min_value': 2, 'max_value': 312, 'step': 22, 'sampling': None}\n",
      "units_22 (Int)\n",
      "{'default': None, 'conditions': [], 'min_value': 2, 'max_value': 312, 'step': 22, 'sampling': None}\n",
      "units_23 (Int)\n",
      "{'default': None, 'conditions': [], 'min_value': 2, 'max_value': 312, 'step': 22, 'sampling': None}\n",
      "units_24 (Int)\n",
      "{'default': None, 'conditions': [], 'min_value': 2, 'max_value': 312, 'step': 22, 'sampling': None}\n",
      "units_25 (Int)\n",
      "{'default': None, 'conditions': [], 'min_value': 2, 'max_value': 312, 'step': 22, 'sampling': None}\n",
      "units_26 (Int)\n",
      "{'default': None, 'conditions': [], 'min_value': 2, 'max_value': 312, 'step': 22, 'sampling': None}\n",
      "units_27 (Int)\n",
      "{'default': None, 'conditions': [], 'min_value': 2, 'max_value': 312, 'step': 22, 'sampling': None}\n",
      "units_28 (Int)\n",
      "{'default': None, 'conditions': [], 'min_value': 2, 'max_value': 312, 'step': 22, 'sampling': None}\n"
     ]
    }
   ],
   "source": [
    "tuner.search_space_summary()"
   ]
  },
  {
   "cell_type": "code",
   "execution_count": 14,
   "metadata": {
    "colab": {
     "base_uri": "https://localhost:8080/"
    },
    "id": "ZDpkQ0PPNJsI",
    "outputId": "c4d483f6-f4e2-4958-c063-507edc330610"
   },
   "outputs": [
    {
     "name": "stdout",
     "output_type": "stream",
     "text": [
      "\n",
      "Search: Running Trial #1\n",
      "\n",
      "Hyperparameter    |Value             |Best Value So Far \n",
      "num_layers        |26                |5                 \n",
      "units_0           |310               |90                \n",
      "activation        |tanh              |relu              \n",
      "initilizer        |xavier            |uniform           \n",
      "units_1           |244               |112               \n",
      "learning_rate     |0.01              |0.0001            \n",
      "units_2           |244               |156               \n",
      "units_3           |112               |24                \n",
      "units_4           |24                |244               \n",
      "units_5           |222               |112               \n",
      "units_6           |156               |178               \n",
      "units_7           |134               |244               \n",
      "units_8           |288               |178               \n",
      "units_9           |156               |200               \n",
      "units_10          |222               |178               \n",
      "units_11          |266               |24                \n",
      "units_12          |90                |112               \n",
      "units_13          |222               |24                \n",
      "units_14          |112               |24                \n",
      "units_15          |112               |244               \n",
      "units_16          |200               |24                \n",
      "units_17          |200               |134               \n",
      "units_18          |244               |134               \n",
      "units_19          |46                |2                 \n",
      "units_20          |266               |156               \n",
      "units_21          |222               |90                \n",
      "units_22          |112               |178               \n",
      "units_23          |310               |112               \n",
      "units_24          |288               |178               \n",
      "units_25          |46                |134               \n",
      "units_26          |288               |46                \n",
      "units_27          |134               |156               \n",
      "units_28          |266               |24                \n",
      "\n",
      "Invalid model 0/5\n"
     ]
    },
    {
     "name": "stderr",
     "output_type": "stream",
     "text": [
      "Traceback (most recent call last):\n",
      "  File \"C:\\Users\\IQD DELL\\anaconda3\\lib\\site-packages\\keras_tuner\\engine\\hypermodel.py\", line 127, in build\n",
      "    model = self.hypermodel.build(hp)\n",
      "  File \"<ipython-input-11-6cca6547729f>\", line 7, in build_model\n",
      "    model.add(Dense(units=hp.Int('units_' + str(i),min_value=2,max_value=312,step=22),activation=hp.Choice('activation',values=['relu', 'tanh', 'sigmoid'],\n",
      "  File \"C:\\Users\\IQD DELL\\anaconda3\\lib\\site-packages\\keras\\layers\\core.py\", line 1156, in __init__\n",
      "    self.kernel_initializer = initializers.get(kernel_initializer)\n",
      "  File \"C:\\Users\\IQD DELL\\anaconda3\\lib\\site-packages\\keras\\initializers\\__init__.py\", line 186, in get\n",
      "    return deserialize(identifier)\n",
      "  File \"C:\\Users\\IQD DELL\\anaconda3\\lib\\site-packages\\keras\\initializers\\__init__.py\", line 139, in deserialize\n",
      "    return generic_utils.deserialize_keras_object(\n",
      "  File \"C:\\Users\\IQD DELL\\anaconda3\\lib\\site-packages\\keras\\utils\\generic_utils.py\", line 704, in deserialize_keras_object\n",
      "    raise ValueError(\n",
      "ValueError: Unknown initializer: xavier. Please ensure this object is passed to the `custom_objects` argument. See https://www.tensorflow.org/guide/keras/save_and_serialize#registering_the_custom_object for details.\n",
      "Traceback (most recent call last):\n",
      "  File \"C:\\Users\\IQD DELL\\anaconda3\\lib\\site-packages\\keras_tuner\\engine\\hypermodel.py\", line 127, in build\n",
      "    model = self.hypermodel.build(hp)\n",
      "  File \"<ipython-input-11-6cca6547729f>\", line 7, in build_model\n",
      "    model.add(Dense(units=hp.Int('units_' + str(i),min_value=2,max_value=312,step=22),activation=hp.Choice('activation',values=['relu', 'tanh', 'sigmoid'],\n",
      "  File \"C:\\Users\\IQD DELL\\anaconda3\\lib\\site-packages\\keras\\layers\\core.py\", line 1156, in __init__\n",
      "    self.kernel_initializer = initializers.get(kernel_initializer)\n",
      "  File \"C:\\Users\\IQD DELL\\anaconda3\\lib\\site-packages\\keras\\initializers\\__init__.py\", line 186, in get\n",
      "    return deserialize(identifier)\n",
      "  File \"C:\\Users\\IQD DELL\\anaconda3\\lib\\site-packages\\keras\\initializers\\__init__.py\", line 139, in deserialize\n",
      "    return generic_utils.deserialize_keras_object(\n",
      "  File \"C:\\Users\\IQD DELL\\anaconda3\\lib\\site-packages\\keras\\utils\\generic_utils.py\", line 704, in deserialize_keras_object\n",
      "    raise ValueError(\n",
      "ValueError: Unknown initializer: xavier. Please ensure this object is passed to the `custom_objects` argument. See https://www.tensorflow.org/guide/keras/save_and_serialize#registering_the_custom_object for details.\n"
     ]
    },
    {
     "name": "stdout",
     "output_type": "stream",
     "text": [
      "Invalid model 1/5\n",
      "Invalid model 2/5\n"
     ]
    },
    {
     "name": "stderr",
     "output_type": "stream",
     "text": [
      "Traceback (most recent call last):\n",
      "  File \"C:\\Users\\IQD DELL\\anaconda3\\lib\\site-packages\\keras_tuner\\engine\\hypermodel.py\", line 127, in build\n",
      "    model = self.hypermodel.build(hp)\n",
      "  File \"<ipython-input-11-6cca6547729f>\", line 7, in build_model\n",
      "    model.add(Dense(units=hp.Int('units_' + str(i),min_value=2,max_value=312,step=22),activation=hp.Choice('activation',values=['relu', 'tanh', 'sigmoid'],\n",
      "  File \"C:\\Users\\IQD DELL\\anaconda3\\lib\\site-packages\\keras\\layers\\core.py\", line 1156, in __init__\n",
      "    self.kernel_initializer = initializers.get(kernel_initializer)\n",
      "  File \"C:\\Users\\IQD DELL\\anaconda3\\lib\\site-packages\\keras\\initializers\\__init__.py\", line 186, in get\n",
      "    return deserialize(identifier)\n",
      "  File \"C:\\Users\\IQD DELL\\anaconda3\\lib\\site-packages\\keras\\initializers\\__init__.py\", line 139, in deserialize\n",
      "    return generic_utils.deserialize_keras_object(\n",
      "  File \"C:\\Users\\IQD DELL\\anaconda3\\lib\\site-packages\\keras\\utils\\generic_utils.py\", line 704, in deserialize_keras_object\n",
      "    raise ValueError(\n",
      "ValueError: Unknown initializer: xavier. Please ensure this object is passed to the `custom_objects` argument. See https://www.tensorflow.org/guide/keras/save_and_serialize#registering_the_custom_object for details.\n",
      "Traceback (most recent call last):\n",
      "  File \"C:\\Users\\IQD DELL\\anaconda3\\lib\\site-packages\\keras_tuner\\engine\\hypermodel.py\", line 127, in build\n",
      "    model = self.hypermodel.build(hp)\n",
      "  File \"<ipython-input-11-6cca6547729f>\", line 7, in build_model\n",
      "    model.add(Dense(units=hp.Int('units_' + str(i),min_value=2,max_value=312,step=22),activation=hp.Choice('activation',values=['relu', 'tanh', 'sigmoid'],\n",
      "  File \"C:\\Users\\IQD DELL\\anaconda3\\lib\\site-packages\\keras\\layers\\core.py\", line 1156, in __init__\n",
      "    self.kernel_initializer = initializers.get(kernel_initializer)\n",
      "  File \"C:\\Users\\IQD DELL\\anaconda3\\lib\\site-packages\\keras\\initializers\\__init__.py\", line 186, in get\n",
      "    return deserialize(identifier)\n",
      "  File \"C:\\Users\\IQD DELL\\anaconda3\\lib\\site-packages\\keras\\initializers\\__init__.py\", line 139, in deserialize\n",
      "    return generic_utils.deserialize_keras_object(\n",
      "  File \"C:\\Users\\IQD DELL\\anaconda3\\lib\\site-packages\\keras\\utils\\generic_utils.py\", line 704, in deserialize_keras_object\n",
      "    raise ValueError(\n",
      "ValueError: Unknown initializer: xavier. Please ensure this object is passed to the `custom_objects` argument. See https://www.tensorflow.org/guide/keras/save_and_serialize#registering_the_custom_object for details.\n"
     ]
    },
    {
     "name": "stdout",
     "output_type": "stream",
     "text": [
      "Invalid model 3/5\n",
      "Invalid model 4/5\n"
     ]
    },
    {
     "name": "stderr",
     "output_type": "stream",
     "text": [
      "Traceback (most recent call last):\n",
      "  File \"C:\\Users\\IQD DELL\\anaconda3\\lib\\site-packages\\keras_tuner\\engine\\hypermodel.py\", line 127, in build\n",
      "    model = self.hypermodel.build(hp)\n",
      "  File \"<ipython-input-11-6cca6547729f>\", line 7, in build_model\n",
      "    model.add(Dense(units=hp.Int('units_' + str(i),min_value=2,max_value=312,step=22),activation=hp.Choice('activation',values=['relu', 'tanh', 'sigmoid'],\n",
      "  File \"C:\\Users\\IQD DELL\\anaconda3\\lib\\site-packages\\keras\\layers\\core.py\", line 1156, in __init__\n",
      "    self.kernel_initializer = initializers.get(kernel_initializer)\n",
      "  File \"C:\\Users\\IQD DELL\\anaconda3\\lib\\site-packages\\keras\\initializers\\__init__.py\", line 186, in get\n",
      "    return deserialize(identifier)\n",
      "  File \"C:\\Users\\IQD DELL\\anaconda3\\lib\\site-packages\\keras\\initializers\\__init__.py\", line 139, in deserialize\n",
      "    return generic_utils.deserialize_keras_object(\n",
      "  File \"C:\\Users\\IQD DELL\\anaconda3\\lib\\site-packages\\keras\\utils\\generic_utils.py\", line 704, in deserialize_keras_object\n",
      "    raise ValueError(\n",
      "ValueError: Unknown initializer: xavier. Please ensure this object is passed to the `custom_objects` argument. See https://www.tensorflow.org/guide/keras/save_and_serialize#registering_the_custom_object for details.\n",
      "Traceback (most recent call last):\n",
      "  File \"C:\\Users\\IQD DELL\\anaconda3\\lib\\site-packages\\keras_tuner\\engine\\hypermodel.py\", line 127, in build\n",
      "    model = self.hypermodel.build(hp)\n",
      "  File \"<ipython-input-11-6cca6547729f>\", line 7, in build_model\n",
      "    model.add(Dense(units=hp.Int('units_' + str(i),min_value=2,max_value=312,step=22),activation=hp.Choice('activation',values=['relu', 'tanh', 'sigmoid'],\n",
      "  File \"C:\\Users\\IQD DELL\\anaconda3\\lib\\site-packages\\keras\\layers\\core.py\", line 1156, in __init__\n",
      "    self.kernel_initializer = initializers.get(kernel_initializer)\n",
      "  File \"C:\\Users\\IQD DELL\\anaconda3\\lib\\site-packages\\keras\\initializers\\__init__.py\", line 186, in get\n",
      "    return deserialize(identifier)\n",
      "  File \"C:\\Users\\IQD DELL\\anaconda3\\lib\\site-packages\\keras\\initializers\\__init__.py\", line 139, in deserialize\n",
      "    return generic_utils.deserialize_keras_object(\n",
      "  File \"C:\\Users\\IQD DELL\\anaconda3\\lib\\site-packages\\keras\\utils\\generic_utils.py\", line 704, in deserialize_keras_object\n",
      "    raise ValueError(\n",
      "ValueError: Unknown initializer: xavier. Please ensure this object is passed to the `custom_objects` argument. See https://www.tensorflow.org/guide/keras/save_and_serialize#registering_the_custom_object for details.\n"
     ]
    },
    {
     "name": "stdout",
     "output_type": "stream",
     "text": [
      "Invalid model 5/5\n"
     ]
    },
    {
     "ename": "RuntimeError",
     "evalue": "Too many failed attempts to build model.",
     "output_type": "error",
     "traceback": [
      "\u001b[1;31m---------------------------------------------------------------------------\u001b[0m",
      "\u001b[1;31mValueError\u001b[0m                                Traceback (most recent call last)",
      "\u001b[1;32m~\\anaconda3\\lib\\site-packages\\keras_tuner\\engine\\hypermodel.py\u001b[0m in \u001b[0;36mbuild\u001b[1;34m(self, hp)\u001b[0m\n\u001b[0;32m    126\u001b[0m                 \u001b[1;32mwith\u001b[0m \u001b[0mmaybe_distribute\u001b[0m\u001b[1;33m(\u001b[0m\u001b[0mself\u001b[0m\u001b[1;33m.\u001b[0m\u001b[0mdistribution_strategy\u001b[0m\u001b[1;33m)\u001b[0m\u001b[1;33m:\u001b[0m\u001b[1;33m\u001b[0m\u001b[1;33m\u001b[0m\u001b[0m\n\u001b[1;32m--> 127\u001b[1;33m                     \u001b[0mmodel\u001b[0m \u001b[1;33m=\u001b[0m \u001b[0mself\u001b[0m\u001b[1;33m.\u001b[0m\u001b[0mhypermodel\u001b[0m\u001b[1;33m.\u001b[0m\u001b[0mbuild\u001b[0m\u001b[1;33m(\u001b[0m\u001b[0mhp\u001b[0m\u001b[1;33m)\u001b[0m\u001b[1;33m\u001b[0m\u001b[1;33m\u001b[0m\u001b[0m\n\u001b[0m\u001b[0;32m    128\u001b[0m             \u001b[1;32mexcept\u001b[0m\u001b[1;33m:\u001b[0m\u001b[1;33m\u001b[0m\u001b[1;33m\u001b[0m\u001b[0m\n",
      "\u001b[1;32m<ipython-input-11-6cca6547729f>\u001b[0m in \u001b[0;36mbuild_model\u001b[1;34m(hp)\u001b[0m\n\u001b[0;32m      6\u001b[0m     \u001b[1;32mfor\u001b[0m \u001b[0mi\u001b[0m \u001b[1;32min\u001b[0m \u001b[0mrange\u001b[0m\u001b[1;33m(\u001b[0m\u001b[0mhp\u001b[0m\u001b[1;33m.\u001b[0m\u001b[0mInt\u001b[0m\u001b[1;33m(\u001b[0m\u001b[1;34m'num_layers'\u001b[0m\u001b[1;33m,\u001b[0m \u001b[1;36m2\u001b[0m\u001b[1;33m,\u001b[0m \u001b[1;36m30\u001b[0m\u001b[1;33m)\u001b[0m\u001b[1;33m)\u001b[0m\u001b[1;33m:\u001b[0m\u001b[1;33m\u001b[0m\u001b[1;33m\u001b[0m\u001b[0m\n\u001b[1;32m----> 7\u001b[1;33m         model.add(Dense(units=hp.Int('units_' + str(i),min_value=2,max_value=312,step=22),activation=hp.Choice('activation',values=['relu', 'tanh', 'sigmoid'],\n\u001b[0m\u001b[0;32m      8\u001b[0m                     default='relu'),kernel_initializer=hp.Choice(\"initilizer\",values=[\"HeNormal\",\"uniform\",\"xavier\"]) ) )\n",
      "\u001b[1;32m~\\anaconda3\\lib\\site-packages\\keras\\layers\\core.py\u001b[0m in \u001b[0;36m__init__\u001b[1;34m(self, units, activation, use_bias, kernel_initializer, bias_initializer, kernel_regularizer, bias_regularizer, activity_regularizer, kernel_constraint, bias_constraint, **kwargs)\u001b[0m\n\u001b[0;32m   1155\u001b[0m     \u001b[0mself\u001b[0m\u001b[1;33m.\u001b[0m\u001b[0muse_bias\u001b[0m \u001b[1;33m=\u001b[0m \u001b[0muse_bias\u001b[0m\u001b[1;33m\u001b[0m\u001b[1;33m\u001b[0m\u001b[0m\n\u001b[1;32m-> 1156\u001b[1;33m     \u001b[0mself\u001b[0m\u001b[1;33m.\u001b[0m\u001b[0mkernel_initializer\u001b[0m \u001b[1;33m=\u001b[0m \u001b[0minitializers\u001b[0m\u001b[1;33m.\u001b[0m\u001b[0mget\u001b[0m\u001b[1;33m(\u001b[0m\u001b[0mkernel_initializer\u001b[0m\u001b[1;33m)\u001b[0m\u001b[1;33m\u001b[0m\u001b[1;33m\u001b[0m\u001b[0m\n\u001b[0m\u001b[0;32m   1157\u001b[0m     \u001b[0mself\u001b[0m\u001b[1;33m.\u001b[0m\u001b[0mbias_initializer\u001b[0m \u001b[1;33m=\u001b[0m \u001b[0minitializers\u001b[0m\u001b[1;33m.\u001b[0m\u001b[0mget\u001b[0m\u001b[1;33m(\u001b[0m\u001b[0mbias_initializer\u001b[0m\u001b[1;33m)\u001b[0m\u001b[1;33m\u001b[0m\u001b[1;33m\u001b[0m\u001b[0m\n",
      "\u001b[1;32m~\\anaconda3\\lib\\site-packages\\keras\\initializers\\__init__.py\u001b[0m in \u001b[0;36mget\u001b[1;34m(identifier)\u001b[0m\n\u001b[0;32m    185\u001b[0m     \u001b[0midentifier\u001b[0m \u001b[1;33m=\u001b[0m \u001b[0mstr\u001b[0m\u001b[1;33m(\u001b[0m\u001b[0midentifier\u001b[0m\u001b[1;33m)\u001b[0m\u001b[1;33m\u001b[0m\u001b[1;33m\u001b[0m\u001b[0m\n\u001b[1;32m--> 186\u001b[1;33m     \u001b[1;32mreturn\u001b[0m \u001b[0mdeserialize\u001b[0m\u001b[1;33m(\u001b[0m\u001b[0midentifier\u001b[0m\u001b[1;33m)\u001b[0m\u001b[1;33m\u001b[0m\u001b[1;33m\u001b[0m\u001b[0m\n\u001b[0m\u001b[0;32m    187\u001b[0m   \u001b[1;32melif\u001b[0m \u001b[0mcallable\u001b[0m\u001b[1;33m(\u001b[0m\u001b[0midentifier\u001b[0m\u001b[1;33m)\u001b[0m\u001b[1;33m:\u001b[0m\u001b[1;33m\u001b[0m\u001b[1;33m\u001b[0m\u001b[0m\n",
      "\u001b[1;32m~\\anaconda3\\lib\\site-packages\\keras\\initializers\\__init__.py\u001b[0m in \u001b[0;36mdeserialize\u001b[1;34m(config, custom_objects)\u001b[0m\n\u001b[0;32m    138\u001b[0m   \u001b[0mpopulate_deserializable_objects\u001b[0m\u001b[1;33m(\u001b[0m\u001b[1;33m)\u001b[0m\u001b[1;33m\u001b[0m\u001b[1;33m\u001b[0m\u001b[0m\n\u001b[1;32m--> 139\u001b[1;33m   return generic_utils.deserialize_keras_object(\n\u001b[0m\u001b[0;32m    140\u001b[0m       \u001b[0mconfig\u001b[0m\u001b[1;33m,\u001b[0m\u001b[1;33m\u001b[0m\u001b[1;33m\u001b[0m\u001b[0m\n",
      "\u001b[1;32m~\\anaconda3\\lib\\site-packages\\keras\\utils\\generic_utils.py\u001b[0m in \u001b[0;36mdeserialize_keras_object\u001b[1;34m(identifier, module_objects, custom_objects, printable_module_name)\u001b[0m\n\u001b[0;32m    703\u001b[0m       \u001b[1;32mif\u001b[0m \u001b[0mobj\u001b[0m \u001b[1;32mis\u001b[0m \u001b[1;32mNone\u001b[0m\u001b[1;33m:\u001b[0m\u001b[1;33m\u001b[0m\u001b[1;33m\u001b[0m\u001b[0m\n\u001b[1;32m--> 704\u001b[1;33m         raise ValueError(\n\u001b[0m\u001b[0;32m    705\u001b[0m             \u001b[1;34m'Unknown {}: {}. Please ensure this object is '\u001b[0m\u001b[1;33m\u001b[0m\u001b[1;33m\u001b[0m\u001b[0m\n",
      "\u001b[1;31mValueError\u001b[0m: Unknown initializer: xavier. Please ensure this object is passed to the `custom_objects` argument. See https://www.tensorflow.org/guide/keras/save_and_serialize#registering_the_custom_object for details.",
      "\nDuring handling of the above exception, another exception occurred:\n",
      "\u001b[1;31mRuntimeError\u001b[0m                              Traceback (most recent call last)",
      "\u001b[1;32m<ipython-input-14-21d10f64409b>\u001b[0m in \u001b[0;36m<module>\u001b[1;34m\u001b[0m\n\u001b[1;32m----> 1\u001b[1;33m tuner.search(X_train, Y_train,\n\u001b[0m\u001b[0;32m      2\u001b[0m              \u001b[0mepochs\u001b[0m\u001b[1;33m=\u001b[0m\u001b[1;36m100\u001b[0m\u001b[1;33m,\u001b[0m\u001b[1;33m\u001b[0m\u001b[1;33m\u001b[0m\u001b[0m\n\u001b[0;32m      3\u001b[0m              validation_data=(X_test, Y_test))\n",
      "\u001b[1;32m~\\anaconda3\\lib\\site-packages\\keras_tuner\\engine\\base_tuner.py\u001b[0m in \u001b[0;36msearch\u001b[1;34m(self, *fit_args, **fit_kwargs)\u001b[0m\n\u001b[0;32m    174\u001b[0m \u001b[1;33m\u001b[0m\u001b[0m\n\u001b[0;32m    175\u001b[0m             \u001b[0mself\u001b[0m\u001b[1;33m.\u001b[0m\u001b[0mon_trial_begin\u001b[0m\u001b[1;33m(\u001b[0m\u001b[0mtrial\u001b[0m\u001b[1;33m)\u001b[0m\u001b[1;33m\u001b[0m\u001b[1;33m\u001b[0m\u001b[0m\n\u001b[1;32m--> 176\u001b[1;33m             \u001b[0mself\u001b[0m\u001b[1;33m.\u001b[0m\u001b[0mrun_trial\u001b[0m\u001b[1;33m(\u001b[0m\u001b[0mtrial\u001b[0m\u001b[1;33m,\u001b[0m \u001b[1;33m*\u001b[0m\u001b[0mfit_args\u001b[0m\u001b[1;33m,\u001b[0m \u001b[1;33m**\u001b[0m\u001b[0mfit_kwargs\u001b[0m\u001b[1;33m)\u001b[0m\u001b[1;33m\u001b[0m\u001b[1;33m\u001b[0m\u001b[0m\n\u001b[0m\u001b[0;32m    177\u001b[0m             \u001b[0mself\u001b[0m\u001b[1;33m.\u001b[0m\u001b[0mon_trial_end\u001b[0m\u001b[1;33m(\u001b[0m\u001b[0mtrial\u001b[0m\u001b[1;33m)\u001b[0m\u001b[1;33m\u001b[0m\u001b[1;33m\u001b[0m\u001b[0m\n\u001b[0;32m    178\u001b[0m         \u001b[0mself\u001b[0m\u001b[1;33m.\u001b[0m\u001b[0mon_search_end\u001b[0m\u001b[1;33m(\u001b[0m\u001b[1;33m)\u001b[0m\u001b[1;33m\u001b[0m\u001b[1;33m\u001b[0m\u001b[0m\n",
      "\u001b[1;32m~\\anaconda3\\lib\\site-packages\\keras_tuner\\engine\\multi_execution_tuner.py\u001b[0m in \u001b[0;36mrun_trial\u001b[1;34m(self, trial, *fit_args, **fit_kwargs)\u001b[0m\n\u001b[0;32m     88\u001b[0m             \u001b[0mcopied_fit_kwargs\u001b[0m\u001b[1;33m[\u001b[0m\u001b[1;34m\"callbacks\"\u001b[0m\u001b[1;33m]\u001b[0m \u001b[1;33m=\u001b[0m \u001b[0mcallbacks\u001b[0m\u001b[1;33m\u001b[0m\u001b[1;33m\u001b[0m\u001b[0m\n\u001b[0;32m     89\u001b[0m \u001b[1;33m\u001b[0m\u001b[0m\n\u001b[1;32m---> 90\u001b[1;33m             \u001b[0mhistory\u001b[0m \u001b[1;33m=\u001b[0m \u001b[0mself\u001b[0m\u001b[1;33m.\u001b[0m\u001b[0m_build_and_fit_model\u001b[0m\u001b[1;33m(\u001b[0m\u001b[0mtrial\u001b[0m\u001b[1;33m,\u001b[0m \u001b[0mfit_args\u001b[0m\u001b[1;33m,\u001b[0m \u001b[0mcopied_fit_kwargs\u001b[0m\u001b[1;33m)\u001b[0m\u001b[1;33m\u001b[0m\u001b[1;33m\u001b[0m\u001b[0m\n\u001b[0m\u001b[0;32m     91\u001b[0m             \u001b[1;32mfor\u001b[0m \u001b[0mmetric\u001b[0m\u001b[1;33m,\u001b[0m \u001b[0mepoch_values\u001b[0m \u001b[1;32min\u001b[0m \u001b[0mhistory\u001b[0m\u001b[1;33m.\u001b[0m\u001b[0mhistory\u001b[0m\u001b[1;33m.\u001b[0m\u001b[0mitems\u001b[0m\u001b[1;33m(\u001b[0m\u001b[1;33m)\u001b[0m\u001b[1;33m:\u001b[0m\u001b[1;33m\u001b[0m\u001b[1;33m\u001b[0m\u001b[0m\n\u001b[0;32m     92\u001b[0m                 \u001b[1;32mif\u001b[0m \u001b[0mself\u001b[0m\u001b[1;33m.\u001b[0m\u001b[0moracle\u001b[0m\u001b[1;33m.\u001b[0m\u001b[0mobjective\u001b[0m\u001b[1;33m.\u001b[0m\u001b[0mdirection\u001b[0m \u001b[1;33m==\u001b[0m \u001b[1;34m\"min\"\u001b[0m\u001b[1;33m:\u001b[0m\u001b[1;33m\u001b[0m\u001b[1;33m\u001b[0m\u001b[0m\n",
      "\u001b[1;32m~\\anaconda3\\lib\\site-packages\\keras_tuner\\engine\\tuner.py\u001b[0m in \u001b[0;36m_build_and_fit_model\u001b[1;34m(self, trial, fit_args, fit_kwargs)\u001b[0m\n\u001b[0;32m    146\u001b[0m             \u001b[0mThe\u001b[0m \u001b[0mfit\u001b[0m \u001b[0mhistory\u001b[0m\u001b[1;33m.\u001b[0m\u001b[1;33m\u001b[0m\u001b[1;33m\u001b[0m\u001b[0m\n\u001b[0;32m    147\u001b[0m         \"\"\"\n\u001b[1;32m--> 148\u001b[1;33m         \u001b[0mmodel\u001b[0m \u001b[1;33m=\u001b[0m \u001b[0mself\u001b[0m\u001b[1;33m.\u001b[0m\u001b[0mhypermodel\u001b[0m\u001b[1;33m.\u001b[0m\u001b[0mbuild\u001b[0m\u001b[1;33m(\u001b[0m\u001b[0mtrial\u001b[0m\u001b[1;33m.\u001b[0m\u001b[0mhyperparameters\u001b[0m\u001b[1;33m)\u001b[0m\u001b[1;33m\u001b[0m\u001b[1;33m\u001b[0m\u001b[0m\n\u001b[0m\u001b[0;32m    149\u001b[0m         \u001b[1;32mreturn\u001b[0m \u001b[0mmodel\u001b[0m\u001b[1;33m.\u001b[0m\u001b[0mfit\u001b[0m\u001b[1;33m(\u001b[0m\u001b[1;33m*\u001b[0m\u001b[0mfit_args\u001b[0m\u001b[1;33m,\u001b[0m \u001b[1;33m**\u001b[0m\u001b[0mfit_kwargs\u001b[0m\u001b[1;33m)\u001b[0m\u001b[1;33m\u001b[0m\u001b[1;33m\u001b[0m\u001b[0m\n\u001b[0;32m    150\u001b[0m \u001b[1;33m\u001b[0m\u001b[0m\n",
      "\u001b[1;32m~\\anaconda3\\lib\\site-packages\\keras_tuner\\engine\\hypermodel.py\u001b[0m in \u001b[0;36m_build_wrapper\u001b[1;34m(self, hp, *args, **kwargs)\u001b[0m\n\u001b[0;32m     82\u001b[0m             \u001b[1;31m# to the search space.\u001b[0m\u001b[1;33m\u001b[0m\u001b[1;33m\u001b[0m\u001b[1;33m\u001b[0m\u001b[0m\n\u001b[0;32m     83\u001b[0m             \u001b[0mhp\u001b[0m \u001b[1;33m=\u001b[0m \u001b[0mhp\u001b[0m\u001b[1;33m.\u001b[0m\u001b[0mcopy\u001b[0m\u001b[1;33m(\u001b[0m\u001b[1;33m)\u001b[0m\u001b[1;33m\u001b[0m\u001b[1;33m\u001b[0m\u001b[0m\n\u001b[1;32m---> 84\u001b[1;33m         \u001b[1;32mreturn\u001b[0m \u001b[0mself\u001b[0m\u001b[1;33m.\u001b[0m\u001b[0m_build\u001b[0m\u001b[1;33m(\u001b[0m\u001b[0mhp\u001b[0m\u001b[1;33m,\u001b[0m \u001b[1;33m*\u001b[0m\u001b[0margs\u001b[0m\u001b[1;33m,\u001b[0m \u001b[1;33m**\u001b[0m\u001b[0mkwargs\u001b[0m\u001b[1;33m)\u001b[0m\u001b[1;33m\u001b[0m\u001b[1;33m\u001b[0m\u001b[0m\n\u001b[0m\u001b[0;32m     85\u001b[0m \u001b[1;33m\u001b[0m\u001b[0m\n\u001b[0;32m     86\u001b[0m \u001b[1;33m\u001b[0m\u001b[0m\n",
      "\u001b[1;32m~\\anaconda3\\lib\\site-packages\\keras_tuner\\engine\\hypermodel.py\u001b[0m in \u001b[0;36mbuild\u001b[1;34m(self, hp)\u001b[0m\n\u001b[0;32m    133\u001b[0m \u001b[1;33m\u001b[0m\u001b[0m\n\u001b[0;32m    134\u001b[0m                 \u001b[1;32mif\u001b[0m \u001b[0mi\u001b[0m \u001b[1;33m==\u001b[0m \u001b[0mself\u001b[0m\u001b[1;33m.\u001b[0m\u001b[0m_max_fail_streak\u001b[0m\u001b[1;33m:\u001b[0m\u001b[1;33m\u001b[0m\u001b[1;33m\u001b[0m\u001b[0m\n\u001b[1;32m--> 135\u001b[1;33m                     \u001b[1;32mraise\u001b[0m \u001b[0mRuntimeError\u001b[0m\u001b[1;33m(\u001b[0m\u001b[1;34m\"Too many failed attempts to build model.\"\u001b[0m\u001b[1;33m)\u001b[0m\u001b[1;33m\u001b[0m\u001b[1;33m\u001b[0m\u001b[0m\n\u001b[0m\u001b[0;32m    136\u001b[0m                 \u001b[1;32mcontinue\u001b[0m\u001b[1;33m\u001b[0m\u001b[1;33m\u001b[0m\u001b[0m\n\u001b[0;32m    137\u001b[0m \u001b[1;33m\u001b[0m\u001b[0m\n",
      "\u001b[1;31mRuntimeError\u001b[0m: Too many failed attempts to build model."
     ]
    }
   ],
   "source": [
    "tuner.search(X_train, Y_train,\n",
    "             epochs=10,\n",
    "             validation_data=(X_test, Y_test))"
   ]
  },
  {
   "cell_type": "code",
   "execution_count": 15,
   "metadata": {},
   "outputs": [
    {
     "name": "stdout",
     "output_type": "stream",
     "text": [
      "Results summary\n",
      "Results in .\\untitled_project\n",
      "Showing 10 best trials\n",
      "Objective(name='accuracy', direction='max')\n",
      "Trial summary\n",
      "Hyperparameters:\n",
      "num_layers: 5\n",
      "units_0: 90\n",
      "activation: relu\n",
      "initilizer: uniform\n",
      "units_1: 112\n",
      "learning_rate: 0.0001\n",
      "units_2: 156\n",
      "units_3: 24\n",
      "units_4: 244\n",
      "units_5: 112\n",
      "units_6: 178\n",
      "units_7: 244\n",
      "units_8: 178\n",
      "units_9: 200\n",
      "units_10: 178\n",
      "units_11: 24\n",
      "units_12: 112\n",
      "units_13: 24\n",
      "units_14: 24\n",
      "units_15: 244\n",
      "units_16: 24\n",
      "units_17: 134\n",
      "units_18: 134\n",
      "units_19: 2\n",
      "units_20: 156\n",
      "units_21: 90\n",
      "units_22: 178\n",
      "units_23: 112\n",
      "units_24: 178\n",
      "units_25: 134\n",
      "units_26: 46\n",
      "units_27: 156\n",
      "units_28: 24\n",
      "Score: 0.9917355179786682\n",
      "Trial summary\n",
      "Hyperparameters:\n",
      "num_layers: 29\n",
      "units_0: 288\n",
      "activation: relu\n",
      "initilizer: HeNormal\n",
      "units_1: 178\n",
      "learning_rate: 0.001\n",
      "units_2: 2\n",
      "units_3: 2\n",
      "units_4: 2\n",
      "units_5: 2\n",
      "units_6: 2\n",
      "units_7: 2\n",
      "units_8: 2\n",
      "units_9: 2\n",
      "units_10: 2\n",
      "units_11: 2\n",
      "units_12: 2\n",
      "units_13: 2\n",
      "units_14: 2\n",
      "units_15: 2\n",
      "units_16: 2\n",
      "units_17: 2\n",
      "units_18: 2\n",
      "units_19: 2\n",
      "units_20: 2\n",
      "units_21: 2\n",
      "units_22: 2\n",
      "units_23: 2\n",
      "units_24: 2\n",
      "units_25: 2\n",
      "units_26: 2\n",
      "units_27: 2\n",
      "units_28: 2\n",
      "Score: 0.5495867729187012\n"
     ]
    }
   ],
   "source": [
    "tuner.results_summary()"
   ]
  },
  {
   "cell_type": "code",
   "execution_count": 16,
   "metadata": {},
   "outputs": [],
   "source": [
    "model_best=tuner.get_best_models()[0]"
   ]
  },
  {
   "cell_type": "code",
   "execution_count": 17,
   "metadata": {},
   "outputs": [],
   "source": [
    "#best_hps=tuner.get_best_hyperparameters()[0]\n",
    "#best_hps"
   ]
  },
  {
   "cell_type": "code",
   "execution_count": 18,
   "metadata": {},
   "outputs": [],
   "source": [
    "#model = tuner.hypermodel.build(best_hps)\n",
    "#model"
   ]
  },
  {
   "cell_type": "code",
   "execution_count": 19,
   "metadata": {},
   "outputs": [
    {
     "name": "stdout",
     "output_type": "stream",
     "text": [
      "Epoch 1/50\n",
      "8/8 [==============================] - 3s 72ms/step - loss: 0.0371 - accuracy: 0.9917 - val_loss: 320.9342 - val_accuracy: 0.4918\n",
      "Epoch 2/50\n",
      "8/8 [==============================] - 0s 9ms/step - loss: 0.0370 - accuracy: 0.9917 - val_loss: 350.0997 - val_accuracy: 0.4918\n",
      "Epoch 3/50\n",
      "8/8 [==============================] - 0s 8ms/step - loss: 0.0576 - accuracy: 0.9835 - val_loss: 371.4890 - val_accuracy: 0.4918\n",
      "Epoch 4/50\n",
      "8/8 [==============================] - 0s 7ms/step - loss: 0.1780 - accuracy: 0.9298 - val_loss: 298.3098 - val_accuracy: 0.4918\n",
      "Epoch 5/50\n",
      "8/8 [==============================] - 0s 6ms/step - loss: 0.0758 - accuracy: 0.9711 - val_loss: 318.0755 - val_accuracy: 0.4918\n",
      "Epoch 6/50\n",
      "8/8 [==============================] - 0s 7ms/step - loss: 0.0342 - accuracy: 0.9917 - val_loss: 347.0578 - val_accuracy: 0.4918\n",
      "Epoch 7/50\n",
      "8/8 [==============================] - 0s 7ms/step - loss: 0.0294 - accuracy: 0.9917 - val_loss: 376.8925 - val_accuracy: 0.4918\n",
      "Epoch 8/50\n",
      "8/8 [==============================] - 0s 8ms/step - loss: 0.0304 - accuracy: 0.9876 - val_loss: 410.2361 - val_accuracy: 0.4918\n",
      "Epoch 9/50\n",
      "8/8 [==============================] - 0s 7ms/step - loss: 0.0615 - accuracy: 0.9876 - val_loss: 380.0300 - val_accuracy: 0.4918\n",
      "Epoch 10/50\n",
      "8/8 [==============================] - 0s 6ms/step - loss: 169.5370 - accuracy: 0.9339 - val_loss: 319.8536 - val_accuracy: 0.4918\n",
      "Epoch 11/50\n",
      "8/8 [==============================] - 0s 7ms/step - loss: 0.2474 - accuracy: 0.9835 - val_loss: 358.3000 - val_accuracy: 0.4918\n",
      "Epoch 12/50\n",
      "8/8 [==============================] - 0s 7ms/step - loss: 0.0277 - accuracy: 0.9917 - val_loss: 400.3854 - val_accuracy: 0.4918\n",
      "Epoch 13/50\n",
      "8/8 [==============================] - 0s 10ms/step - loss: 0.0227 - accuracy: 0.9917 - val_loss: 409.6788 - val_accuracy: 0.4918\n",
      "Epoch 14/50\n",
      "8/8 [==============================] - 0s 8ms/step - loss: 0.0950 - accuracy: 0.9669 - val_loss: 388.1425 - val_accuracy: 0.4918\n",
      "Epoch 15/50\n",
      "8/8 [==============================] - 0s 6ms/step - loss: 0.0445 - accuracy: 0.9793 - val_loss: 465.1032 - val_accuracy: 0.4918\n",
      "Epoch 16/50\n",
      "8/8 [==============================] - 0s 8ms/step - loss: 0.0204 - accuracy: 0.9917 - val_loss: 522.5250 - val_accuracy: 0.4918\n",
      "Epoch 17/50\n",
      "8/8 [==============================] - 0s 7ms/step - loss: 0.0189 - accuracy: 0.9917 - val_loss: 576.8646 - val_accuracy: 0.4918\n",
      "Epoch 18/50\n",
      "8/8 [==============================] - 0s 7ms/step - loss: 0.0197 - accuracy: 0.9959 - val_loss: 551.1614 - val_accuracy: 0.4918\n",
      "Epoch 19/50\n",
      "8/8 [==============================] - 0s 8ms/step - loss: 0.2004 - accuracy: 0.9256 - val_loss: 496.7744 - val_accuracy: 0.4918\n",
      "Epoch 20/50\n",
      "8/8 [==============================] - 0s 7ms/step - loss: 0.0186 - accuracy: 0.9917 - val_loss: 524.1603 - val_accuracy: 0.4918\n",
      "Epoch 21/50\n",
      "8/8 [==============================] - 0s 8ms/step - loss: 0.0147 - accuracy: 0.9959 - val_loss: 544.8381 - val_accuracy: 0.4918\n",
      "Epoch 22/50\n",
      "8/8 [==============================] - 0s 6ms/step - loss: 0.0115 - accuracy: 0.9959 - val_loss: 574.0190 - val_accuracy: 0.4918\n",
      "Epoch 23/50\n",
      "8/8 [==============================] - 0s 7ms/step - loss: 0.0110 - accuracy: 0.9959 - val_loss: 609.7357 - val_accuracy: 0.4918\n",
      "Epoch 24/50\n",
      "8/8 [==============================] - 0s 6ms/step - loss: 0.0104 - accuracy: 0.9959 - val_loss: 650.9752 - val_accuracy: 0.4918\n",
      "Epoch 25/50\n",
      "8/8 [==============================] - 0s 7ms/step - loss: 0.0099 - accuracy: 0.9959 - val_loss: 704.6859 - val_accuracy: 0.4918\n",
      "Epoch 26/50\n",
      "8/8 [==============================] - 0s 7ms/step - loss: 0.2957 - accuracy: 0.9504 - val_loss: 712.6614 - val_accuracy: 0.4918\n",
      "Epoch 27/50\n",
      "8/8 [==============================] - 0s 6ms/step - loss: 0.0228 - accuracy: 0.9876 - val_loss: 724.1722 - val_accuracy: 0.4918\n",
      "Epoch 28/50\n",
      "8/8 [==============================] - 0s 6ms/step - loss: 0.0109 - accuracy: 0.9959 - val_loss: 733.4706 - val_accuracy: 0.4918\n",
      "Epoch 29/50\n",
      "8/8 [==============================] - 0s 6ms/step - loss: 0.0102 - accuracy: 0.9959 - val_loss: 755.0676 - val_accuracy: 0.4918\n",
      "Epoch 30/50\n",
      "8/8 [==============================] - 0s 6ms/step - loss: 0.0099 - accuracy: 0.9959 - val_loss: 801.5566 - val_accuracy: 0.4918\n",
      "Epoch 31/50\n",
      "8/8 [==============================] - 0s 7ms/step - loss: 0.0102 - accuracy: 0.9959 - val_loss: 818.4772 - val_accuracy: 0.4918\n",
      "Epoch 32/50\n",
      "8/8 [==============================] - 0s 7ms/step - loss: 0.2753 - accuracy: 0.9421 - val_loss: 760.7218 - val_accuracy: 0.4918\n",
      "Epoch 33/50\n",
      "8/8 [==============================] - 0s 6ms/step - loss: 0.0267 - accuracy: 0.9917 - val_loss: 744.6490 - val_accuracy: 0.4918\n",
      "Epoch 34/50\n",
      "8/8 [==============================] - 0s 7ms/step - loss: 0.0751 - accuracy: 0.9752 - val_loss: 718.7590 - val_accuracy: 0.4918\n",
      "Epoch 35/50\n",
      "8/8 [==============================] - 0s 7ms/step - loss: 0.0103 - accuracy: 0.9959 - val_loss: 729.4504 - val_accuracy: 0.4918\n",
      "Epoch 36/50\n",
      "8/8 [==============================] - 0s 6ms/step - loss: 0.0100 - accuracy: 0.9959 - val_loss: 743.6365 - val_accuracy: 0.4918\n",
      "Epoch 37/50\n",
      "8/8 [==============================] - 0s 7ms/step - loss: 0.0096 - accuracy: 0.9959 - val_loss: 768.5568 - val_accuracy: 0.4918\n",
      "Epoch 38/50\n",
      "8/8 [==============================] - 0s 7ms/step - loss: 0.0093 - accuracy: 0.9959 - val_loss: 805.7858 - val_accuracy: 0.4918\n",
      "Epoch 39/50\n",
      "8/8 [==============================] - 0s 7ms/step - loss: 0.0090 - accuracy: 0.9959 - val_loss: 845.2786 - val_accuracy: 0.4918\n",
      "Epoch 40/50\n",
      "8/8 [==============================] - 0s 7ms/step - loss: 0.0088 - accuracy: 0.9959 - val_loss: 916.5948 - val_accuracy: 0.4918\n",
      "Epoch 41/50\n",
      "8/8 [==============================] - 0s 6ms/step - loss: 0.3217 - accuracy: 0.9256 - val_loss: 965.2286 - val_accuracy: 0.4918\n",
      "Epoch 42/50\n",
      "8/8 [==============================] - 0s 7ms/step - loss: 0.0103 - accuracy: 0.9959 - val_loss: 972.8696 - val_accuracy: 0.4918\n",
      "Epoch 43/50\n",
      "8/8 [==============================] - 0s 7ms/step - loss: 0.0094 - accuracy: 0.9959 - val_loss: 983.4846 - val_accuracy: 0.4918\n",
      "Epoch 44/50\n",
      "8/8 [==============================] - 0s 7ms/step - loss: 0.0091 - accuracy: 0.9959 - val_loss: 993.3549 - val_accuracy: 0.4918\n",
      "Epoch 45/50\n",
      "8/8 [==============================] - 0s 7ms/step - loss: 0.0089 - accuracy: 0.9959 - val_loss: 1006.6763 - val_accuracy: 0.4918\n",
      "Epoch 46/50\n",
      "8/8 [==============================] - 0s 6ms/step - loss: 0.0088 - accuracy: 0.9959 - val_loss: 1021.3553 - val_accuracy: 0.4918\n",
      "Epoch 47/50\n",
      "8/8 [==============================] - 0s 6ms/step - loss: 0.0059 - accuracy: 0.9959 - val_loss: 1044.4490 - val_accuracy: 0.4918\n",
      "Epoch 48/50\n",
      "8/8 [==============================] - 0s 6ms/step - loss: 0.3165 - accuracy: 0.9917 - val_loss: 1043.7639 - val_accuracy: 0.4918\n",
      "Epoch 49/50\n",
      "8/8 [==============================] - 0s 6ms/step - loss: 0.0087 - accuracy: 0.9959 - val_loss: 1084.1150 - val_accuracy: 0.4918\n",
      "Epoch 50/50\n",
      "8/8 [==============================] - 0s 7ms/step - loss: 0.0085 - accuracy: 0.9959 - val_loss: 1120.0115 - val_accuracy: 0.4918\n",
      "Best epoch: 1\n"
     ]
    }
   ],
   "source": [
    "#model = tuner.hypermodel.build(best_hps)\n",
    "history = model_best.fit(X_train, Y_train, epochs=50, validation_data=(X_test,Y_test),initial_epoch=11)\n",
    "\n",
    "val_acc_per_epoch = history.history['val_accuracy']\n",
    "best_epoch = val_acc_per_epoch.index(max(val_acc_per_epoch)) +1\n",
    "print('Best epoch: %d' % (best_epoch))"
   ]
  },
  {
   "cell_type": "code",
   "execution_count": 211,
   "metadata": {},
   "outputs": [
    {
     "name": "stdout",
     "output_type": "stream",
     "text": [
      "WARNING:tensorflow:5 out of the last 11 calls to <function Model.make_predict_function.<locals>.predict_function at 0x000001BBFE986280> triggered tf.function retracing. Tracing is expensive and the excessive number of tracings could be due to (1) creating @tf.function repeatedly in a loop, (2) passing tensors with different shapes, (3) passing Python objects instead of tensors. For (1), please define your @tf.function outside of the loop. For (2), @tf.function has experimental_relax_shapes=True option that relaxes argument shapes that can avoid unnecessary retracing. For (3), please refer to https://www.tensorflow.org/guide/function#controlling_retracing and https://www.tensorflow.org/api_docs/python/tf/function for  more details.\n"
     ]
    }
   ],
   "source": [
    "y_pred = model_best.predict(X_test)\n",
    "y_pred = (y_pred > 0.5)"
   ]
  },
  {
   "cell_type": "code",
   "execution_count": 212,
   "metadata": {},
   "outputs": [
    {
     "data": {
      "text/plain": [
       "array([[31,  0],\n",
       "       [30,  0]], dtype=int64)"
      ]
     },
     "execution_count": 212,
     "metadata": {},
     "output_type": "execute_result"
    }
   ],
   "source": [
    "from sklearn.metrics import confusion_matrix,accuracy_score\n",
    "cm = confusion_matrix(Y_test,y_pred)\n",
    "cm\n"
   ]
  },
  {
   "cell_type": "code",
   "execution_count": 213,
   "metadata": {},
   "outputs": [
    {
     "data": {
      "text/plain": [
       "0.5081967213114754"
      ]
     },
     "execution_count": 213,
     "metadata": {},
     "output_type": "execute_result"
    }
   ],
   "source": [
    "accuracy_score(Y_test,y_pred)"
   ]
  },
  {
   "cell_type": "code",
   "execution_count": 32,
   "metadata": {
    "id": "mOqBX4RlnLms"
   },
   "outputs": [],
   "source": [
    "import keras\n",
    "from keras.models import Sequential\n",
    "from keras.layers import Activation, Dense"
   ]
  },
  {
   "cell_type": "code",
   "execution_count": null,
   "metadata": {},
   "outputs": [],
   "source": [
    "#Other code of tuning"
   ]
  },
  {
   "cell_type": "code",
   "execution_count": 199,
   "metadata": {
    "id": "JwkVHxFrNQVB"
   },
   "outputs": [],
   "source": [
    " def build( hp):\n",
    "    model =Sequential()\n",
    "    model.add(\n",
    "        Dense(units=hp.Int('units', 8, 64, 4, default=8),activation=hp.Choice('activation',values=['relu', 'tanh', 'sigmoid'],\n",
    "                    default='relu') ) )\n",
    "    model.add(Dense(units=hp.Int('units', 16, 64, 4, default=16),activation=hp.Choice('activation',\n",
    "                    values=['relu', 'tanh', 'sigmoid'],\n",
    "                    default='relu') ) )\n",
    "    model.add(Dropout(hp.Float('dropout',min_value=0.0,max_value=0.1,default=0.005, step=0.01) ) )\n",
    "        \n",
    "    model.add(Dense(1,activation=\"sigmoid\"))\n",
    "         # Tune the learning rate for the optimizer\n",
    "  # Choose an optimal value from 0.01, 0.001, or 0.0001\n",
    "    hp_learning_rate = hp.Choice('learning_rate', values=[1e-2, 1e-3, 1e-4])\n",
    "    model.compile(optimizer='rmsprop',loss='binary_crossentropy',metrics=['accuracy'] )\n",
    "    return model"
   ]
  },
  {
   "cell_type": "code",
   "execution_count": 200,
   "metadata": {
    "colab": {
     "base_uri": "https://localhost:8080/",
     "height": 1000
    },
    "id": "s5BH5Sfv-gVz",
    "outputId": "0f96a317-98f5-44af-cc23-b01c7c0a01fc"
   },
   "outputs": [
    {
     "name": "stdout",
     "output_type": "stream",
     "text": [
      "INFO:tensorflow:Reloading Oracle from existing project .\\untitled_project\\oracle.json\n",
      "INFO:tensorflow:Reloading Tuner from .\\untitled_project\\tuner0.json\n"
     ]
    }
   ],
   "source": [
    "tuner_rs = RandomSearch(\n",
    "            build,\n",
    "            objective='accuracy',\n",
    "            seed=42,\n",
    "            max_trials=10,\n",
    "            executions_per_trial=2)"
   ]
  },
  {
   "cell_type": "code",
   "execution_count": 201,
   "metadata": {},
   "outputs": [],
   "source": [
    "model_best_2=tuner_rs.get_best_models()[0]"
   ]
  },
  {
   "cell_type": "code",
   "execution_count": 202,
   "metadata": {},
   "outputs": [
    {
     "name": "stdout",
     "output_type": "stream",
     "text": [
      "Epoch 1/50\n"
     ]
    },
    {
     "ename": "InvalidArgumentError",
     "evalue": " Incompatible shapes: [8] vs. [480]\n\t [[node RMSprop/RMSprop/update_3/add (defined at <ipython-input-202-f050a1d0561b>:1) ]] [Op:__inference_train_function_134275]\n\nFunction call stack:\ntrain_function\n",
     "output_type": "error",
     "traceback": [
      "\u001b[1;31m---------------------------------------------------------------------------\u001b[0m",
      "\u001b[1;31mInvalidArgumentError\u001b[0m                      Traceback (most recent call last)",
      "\u001b[1;32m<ipython-input-202-f050a1d0561b>\u001b[0m in \u001b[0;36m<module>\u001b[1;34m\u001b[0m\n\u001b[1;32m----> 1\u001b[1;33m \u001b[0mhistory\u001b[0m\u001b[1;33m=\u001b[0m \u001b[0mmodel_best_2\u001b[0m\u001b[1;33m.\u001b[0m\u001b[0mfit\u001b[0m\u001b[1;33m(\u001b[0m\u001b[0mX_train\u001b[0m\u001b[1;33m,\u001b[0m\u001b[0mY_train\u001b[0m\u001b[1;33m,\u001b[0m \u001b[0mepochs\u001b[0m\u001b[1;33m=\u001b[0m\u001b[1;36m50\u001b[0m\u001b[1;33m,\u001b[0m \u001b[0mvalidation_split\u001b[0m\u001b[1;33m=\u001b[0m\u001b[1;36m0.2\u001b[0m\u001b[1;33m)\u001b[0m\u001b[1;33m\u001b[0m\u001b[1;33m\u001b[0m\u001b[0m\n\u001b[0m\u001b[0;32m      2\u001b[0m \u001b[0mval_acc_per_epoch\u001b[0m \u001b[1;33m=\u001b[0m \u001b[0mhistory\u001b[0m\u001b[1;33m.\u001b[0m\u001b[0mhistory\u001b[0m\u001b[1;33m[\u001b[0m\u001b[1;34m'val_accuracy'\u001b[0m\u001b[1;33m]\u001b[0m\u001b[1;33m\u001b[0m\u001b[1;33m\u001b[0m\u001b[0m\n\u001b[0;32m      3\u001b[0m \u001b[0mbest_epoch\u001b[0m \u001b[1;33m=\u001b[0m \u001b[0mval_acc_per_epoch\u001b[0m\u001b[1;33m.\u001b[0m\u001b[0mindex\u001b[0m\u001b[1;33m(\u001b[0m\u001b[0mmax\u001b[0m\u001b[1;33m(\u001b[0m\u001b[0mval_acc_per_epoch\u001b[0m\u001b[1;33m)\u001b[0m\u001b[1;33m)\u001b[0m \u001b[1;33m+\u001b[0m\u001b[1;36m1\u001b[0m\u001b[1;33m\u001b[0m\u001b[1;33m\u001b[0m\u001b[0m\n\u001b[0;32m      4\u001b[0m \u001b[0mprint\u001b[0m\u001b[1;33m(\u001b[0m\u001b[1;34m'Best epoch: %d'\u001b[0m \u001b[1;33m%\u001b[0m \u001b[1;33m(\u001b[0m\u001b[0mbest_epoch\u001b[0m\u001b[1;33m)\u001b[0m\u001b[1;33m)\u001b[0m\u001b[1;33m\u001b[0m\u001b[1;33m\u001b[0m\u001b[0m\n",
      "\u001b[1;32m~\\anaconda3\\lib\\site-packages\\keras\\engine\\training.py\u001b[0m in \u001b[0;36mfit\u001b[1;34m(self, x, y, batch_size, epochs, verbose, callbacks, validation_split, validation_data, shuffle, class_weight, sample_weight, initial_epoch, steps_per_epoch, validation_steps, validation_batch_size, validation_freq, max_queue_size, workers, use_multiprocessing)\u001b[0m\n\u001b[0;32m   1182\u001b[0m                 _r=1):\n\u001b[0;32m   1183\u001b[0m               \u001b[0mcallbacks\u001b[0m\u001b[1;33m.\u001b[0m\u001b[0mon_train_batch_begin\u001b[0m\u001b[1;33m(\u001b[0m\u001b[0mstep\u001b[0m\u001b[1;33m)\u001b[0m\u001b[1;33m\u001b[0m\u001b[1;33m\u001b[0m\u001b[0m\n\u001b[1;32m-> 1184\u001b[1;33m               \u001b[0mtmp_logs\u001b[0m \u001b[1;33m=\u001b[0m \u001b[0mself\u001b[0m\u001b[1;33m.\u001b[0m\u001b[0mtrain_function\u001b[0m\u001b[1;33m(\u001b[0m\u001b[0miterator\u001b[0m\u001b[1;33m)\u001b[0m\u001b[1;33m\u001b[0m\u001b[1;33m\u001b[0m\u001b[0m\n\u001b[0m\u001b[0;32m   1185\u001b[0m               \u001b[1;32mif\u001b[0m \u001b[0mdata_handler\u001b[0m\u001b[1;33m.\u001b[0m\u001b[0mshould_sync\u001b[0m\u001b[1;33m:\u001b[0m\u001b[1;33m\u001b[0m\u001b[1;33m\u001b[0m\u001b[0m\n\u001b[0;32m   1186\u001b[0m                 \u001b[0mcontext\u001b[0m\u001b[1;33m.\u001b[0m\u001b[0masync_wait\u001b[0m\u001b[1;33m(\u001b[0m\u001b[1;33m)\u001b[0m\u001b[1;33m\u001b[0m\u001b[1;33m\u001b[0m\u001b[0m\n",
      "\u001b[1;32m~\\anaconda3\\lib\\site-packages\\tensorflow\\python\\eager\\def_function.py\u001b[0m in \u001b[0;36m__call__\u001b[1;34m(self, *args, **kwds)\u001b[0m\n\u001b[0;32m    883\u001b[0m \u001b[1;33m\u001b[0m\u001b[0m\n\u001b[0;32m    884\u001b[0m       \u001b[1;32mwith\u001b[0m \u001b[0mOptionalXlaContext\u001b[0m\u001b[1;33m(\u001b[0m\u001b[0mself\u001b[0m\u001b[1;33m.\u001b[0m\u001b[0m_jit_compile\u001b[0m\u001b[1;33m)\u001b[0m\u001b[1;33m:\u001b[0m\u001b[1;33m\u001b[0m\u001b[1;33m\u001b[0m\u001b[0m\n\u001b[1;32m--> 885\u001b[1;33m         \u001b[0mresult\u001b[0m \u001b[1;33m=\u001b[0m \u001b[0mself\u001b[0m\u001b[1;33m.\u001b[0m\u001b[0m_call\u001b[0m\u001b[1;33m(\u001b[0m\u001b[1;33m*\u001b[0m\u001b[0margs\u001b[0m\u001b[1;33m,\u001b[0m \u001b[1;33m**\u001b[0m\u001b[0mkwds\u001b[0m\u001b[1;33m)\u001b[0m\u001b[1;33m\u001b[0m\u001b[1;33m\u001b[0m\u001b[0m\n\u001b[0m\u001b[0;32m    886\u001b[0m \u001b[1;33m\u001b[0m\u001b[0m\n\u001b[0;32m    887\u001b[0m       \u001b[0mnew_tracing_count\u001b[0m \u001b[1;33m=\u001b[0m \u001b[0mself\u001b[0m\u001b[1;33m.\u001b[0m\u001b[0mexperimental_get_tracing_count\u001b[0m\u001b[1;33m(\u001b[0m\u001b[1;33m)\u001b[0m\u001b[1;33m\u001b[0m\u001b[1;33m\u001b[0m\u001b[0m\n",
      "\u001b[1;32m~\\anaconda3\\lib\\site-packages\\tensorflow\\python\\eager\\def_function.py\u001b[0m in \u001b[0;36m_call\u001b[1;34m(self, *args, **kwds)\u001b[0m\n\u001b[0;32m    948\u001b[0m         \u001b[1;31m# Lifting succeeded, so variables are initialized and we can run the\u001b[0m\u001b[1;33m\u001b[0m\u001b[1;33m\u001b[0m\u001b[1;33m\u001b[0m\u001b[0m\n\u001b[0;32m    949\u001b[0m         \u001b[1;31m# stateless function.\u001b[0m\u001b[1;33m\u001b[0m\u001b[1;33m\u001b[0m\u001b[1;33m\u001b[0m\u001b[0m\n\u001b[1;32m--> 950\u001b[1;33m         \u001b[1;32mreturn\u001b[0m \u001b[0mself\u001b[0m\u001b[1;33m.\u001b[0m\u001b[0m_stateless_fn\u001b[0m\u001b[1;33m(\u001b[0m\u001b[1;33m*\u001b[0m\u001b[0margs\u001b[0m\u001b[1;33m,\u001b[0m \u001b[1;33m**\u001b[0m\u001b[0mkwds\u001b[0m\u001b[1;33m)\u001b[0m\u001b[1;33m\u001b[0m\u001b[1;33m\u001b[0m\u001b[0m\n\u001b[0m\u001b[0;32m    951\u001b[0m     \u001b[1;32melse\u001b[0m\u001b[1;33m:\u001b[0m\u001b[1;33m\u001b[0m\u001b[1;33m\u001b[0m\u001b[0m\n\u001b[0;32m    952\u001b[0m       \u001b[0m_\u001b[0m\u001b[1;33m,\u001b[0m \u001b[0m_\u001b[0m\u001b[1;33m,\u001b[0m \u001b[0m_\u001b[0m\u001b[1;33m,\u001b[0m \u001b[0mfiltered_flat_args\u001b[0m \u001b[1;33m=\u001b[0m\u001b[0;31m \u001b[0m\u001b[0;31m\\\u001b[0m\u001b[1;33m\u001b[0m\u001b[1;33m\u001b[0m\u001b[0m\n",
      "\u001b[1;32m~\\anaconda3\\lib\\site-packages\\tensorflow\\python\\eager\\function.py\u001b[0m in \u001b[0;36m__call__\u001b[1;34m(self, *args, **kwargs)\u001b[0m\n\u001b[0;32m   3037\u001b[0m       (graph_function,\n\u001b[0;32m   3038\u001b[0m        filtered_flat_args) = self._maybe_define_function(args, kwargs)\n\u001b[1;32m-> 3039\u001b[1;33m     return graph_function._call_flat(\n\u001b[0m\u001b[0;32m   3040\u001b[0m         filtered_flat_args, captured_inputs=graph_function.captured_inputs)  # pylint: disable=protected-access\n\u001b[0;32m   3041\u001b[0m \u001b[1;33m\u001b[0m\u001b[0m\n",
      "\u001b[1;32m~\\anaconda3\\lib\\site-packages\\tensorflow\\python\\eager\\function.py\u001b[0m in \u001b[0;36m_call_flat\u001b[1;34m(self, args, captured_inputs, cancellation_manager)\u001b[0m\n\u001b[0;32m   1961\u001b[0m         and executing_eagerly):\n\u001b[0;32m   1962\u001b[0m       \u001b[1;31m# No tape is watching; skip to running the function.\u001b[0m\u001b[1;33m\u001b[0m\u001b[1;33m\u001b[0m\u001b[1;33m\u001b[0m\u001b[0m\n\u001b[1;32m-> 1963\u001b[1;33m       return self._build_call_outputs(self._inference_function.call(\n\u001b[0m\u001b[0;32m   1964\u001b[0m           ctx, args, cancellation_manager=cancellation_manager))\n\u001b[0;32m   1965\u001b[0m     forward_backward = self._select_forward_and_backward_functions(\n",
      "\u001b[1;32m~\\anaconda3\\lib\\site-packages\\tensorflow\\python\\eager\\function.py\u001b[0m in \u001b[0;36mcall\u001b[1;34m(self, ctx, args, cancellation_manager)\u001b[0m\n\u001b[0;32m    589\u001b[0m       \u001b[1;32mwith\u001b[0m \u001b[0m_InterpolateFunctionError\u001b[0m\u001b[1;33m(\u001b[0m\u001b[0mself\u001b[0m\u001b[1;33m)\u001b[0m\u001b[1;33m:\u001b[0m\u001b[1;33m\u001b[0m\u001b[1;33m\u001b[0m\u001b[0m\n\u001b[0;32m    590\u001b[0m         \u001b[1;32mif\u001b[0m \u001b[0mcancellation_manager\u001b[0m \u001b[1;32mis\u001b[0m \u001b[1;32mNone\u001b[0m\u001b[1;33m:\u001b[0m\u001b[1;33m\u001b[0m\u001b[1;33m\u001b[0m\u001b[0m\n\u001b[1;32m--> 591\u001b[1;33m           outputs = execute.execute(\n\u001b[0m\u001b[0;32m    592\u001b[0m               \u001b[0mstr\u001b[0m\u001b[1;33m(\u001b[0m\u001b[0mself\u001b[0m\u001b[1;33m.\u001b[0m\u001b[0msignature\u001b[0m\u001b[1;33m.\u001b[0m\u001b[0mname\u001b[0m\u001b[1;33m)\u001b[0m\u001b[1;33m,\u001b[0m\u001b[1;33m\u001b[0m\u001b[1;33m\u001b[0m\u001b[0m\n\u001b[0;32m    593\u001b[0m               \u001b[0mnum_outputs\u001b[0m\u001b[1;33m=\u001b[0m\u001b[0mself\u001b[0m\u001b[1;33m.\u001b[0m\u001b[0m_num_outputs\u001b[0m\u001b[1;33m,\u001b[0m\u001b[1;33m\u001b[0m\u001b[1;33m\u001b[0m\u001b[0m\n",
      "\u001b[1;32m~\\anaconda3\\lib\\site-packages\\tensorflow\\python\\eager\\execute.py\u001b[0m in \u001b[0;36mquick_execute\u001b[1;34m(op_name, num_outputs, inputs, attrs, ctx, name)\u001b[0m\n\u001b[0;32m     57\u001b[0m   \u001b[1;32mtry\u001b[0m\u001b[1;33m:\u001b[0m\u001b[1;33m\u001b[0m\u001b[1;33m\u001b[0m\u001b[0m\n\u001b[0;32m     58\u001b[0m     \u001b[0mctx\u001b[0m\u001b[1;33m.\u001b[0m\u001b[0mensure_initialized\u001b[0m\u001b[1;33m(\u001b[0m\u001b[1;33m)\u001b[0m\u001b[1;33m\u001b[0m\u001b[1;33m\u001b[0m\u001b[0m\n\u001b[1;32m---> 59\u001b[1;33m     tensors = pywrap_tfe.TFE_Py_Execute(ctx._handle, device_name, op_name,\n\u001b[0m\u001b[0;32m     60\u001b[0m                                         inputs, attrs, num_outputs)\n\u001b[0;32m     61\u001b[0m   \u001b[1;32mexcept\u001b[0m \u001b[0mcore\u001b[0m\u001b[1;33m.\u001b[0m\u001b[0m_NotOkStatusException\u001b[0m \u001b[1;32mas\u001b[0m \u001b[0me\u001b[0m\u001b[1;33m:\u001b[0m\u001b[1;33m\u001b[0m\u001b[1;33m\u001b[0m\u001b[0m\n",
      "\u001b[1;31mInvalidArgumentError\u001b[0m:  Incompatible shapes: [8] vs. [480]\n\t [[node RMSprop/RMSprop/update_3/add (defined at <ipython-input-202-f050a1d0561b>:1) ]] [Op:__inference_train_function_134275]\n\nFunction call stack:\ntrain_function\n"
     ]
    }
   ],
   "source": [
    "history= model_best_2.fit(X_train,Y_train, epochs=50, validation_split=0.2)\n",
    "val_acc_per_epoch = history.history['val_accuracy']\n",
    "best_epoch = val_acc_per_epoch.index(max(val_acc_per_epoch)) +1\n",
    "print('Best epoch: %d' % (best_epoch))"
   ]
  },
  {
   "cell_type": "code",
   "execution_count": null,
   "metadata": {},
   "outputs": [],
   "source": []
  }
 ],
 "metadata": {
  "accelerator": "GPU",
  "colab": {
   "collapsed_sections": [],
   "name": "Heart.ipynb",
   "provenance": []
  },
  "kernelspec": {
   "display_name": "Python 3",
   "language": "python",
   "name": "python3"
  },
  "language_info": {
   "codemirror_mode": {
    "name": "ipython",
    "version": 3
   },
   "file_extension": ".py",
   "mimetype": "text/x-python",
   "name": "python",
   "nbconvert_exporter": "python",
   "pygments_lexer": "ipython3",
   "version": "3.8.8"
  }
 },
 "nbformat": 4,
 "nbformat_minor": 1
}
